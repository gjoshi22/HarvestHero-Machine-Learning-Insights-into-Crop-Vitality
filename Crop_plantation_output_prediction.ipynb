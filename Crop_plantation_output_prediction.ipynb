{
 "cells": [
  {
   "cell_type": "markdown",
   "id": "1efd5fd7",
   "metadata": {},
   "source": [
    "# Crop Plantation Survival Classification "
   ]
  },
  {
   "cell_type": "code",
   "execution_count": 54,
   "id": "c431bb60",
   "metadata": {},
   "outputs": [],
   "source": [
    "#importing necessary libraries \n",
    "import numpy as np\n",
    "import pandas as pd\n",
    "import seaborn as sns\n",
    "import matplotlib.pyplot as plt\n",
    "import warnings\n",
    "warnings.simplefilter('ignore')"
   ]
  },
  {
   "cell_type": "code",
   "execution_count": 55,
   "id": "125e86dd",
   "metadata": {},
   "outputs": [],
   "source": [
    "df_train = pd.read_csv('train.csv')\n",
    "df_test = pd.read_csv('test.csv')\n",
    "df = pd.concat([df_train.assign(ind=\"train\"), df_test.assign(ind=\"test\")])"
   ]
  },
  {
   "cell_type": "code",
   "execution_count": 56,
   "id": "a282c415",
   "metadata": {},
   "outputs": [
    {
     "data": {
      "text/html": [
       "<div>\n",
       "<style scoped>\n",
       "    .dataframe tbody tr th:only-of-type {\n",
       "        vertical-align: middle;\n",
       "    }\n",
       "\n",
       "    .dataframe tbody tr th {\n",
       "        vertical-align: top;\n",
       "    }\n",
       "\n",
       "    .dataframe thead th {\n",
       "        text-align: right;\n",
       "    }\n",
       "</style>\n",
       "<table border=\"1\" class=\"dataframe\">\n",
       "  <thead>\n",
       "    <tr style=\"text-align: right;\">\n",
       "      <th></th>\n",
       "      <th>ID</th>\n",
       "      <th>Estimated_Insects_Count</th>\n",
       "      <th>Crop_Type</th>\n",
       "      <th>Soil_Type</th>\n",
       "      <th>Pesticide_Use_Category</th>\n",
       "      <th>Number_Doses_Week</th>\n",
       "      <th>Number_Weeks_Used</th>\n",
       "      <th>Number_Weeks_Quit</th>\n",
       "      <th>Season</th>\n",
       "      <th>Crop_Damage</th>\n",
       "    </tr>\n",
       "  </thead>\n",
       "  <tbody>\n",
       "    <tr>\n",
       "      <th>0</th>\n",
       "      <td>F00000001</td>\n",
       "      <td>188</td>\n",
       "      <td>1</td>\n",
       "      <td>0</td>\n",
       "      <td>1</td>\n",
       "      <td>0</td>\n",
       "      <td>0.0</td>\n",
       "      <td>0</td>\n",
       "      <td>1</td>\n",
       "      <td>0</td>\n",
       "    </tr>\n",
       "    <tr>\n",
       "      <th>1</th>\n",
       "      <td>F00000003</td>\n",
       "      <td>209</td>\n",
       "      <td>1</td>\n",
       "      <td>0</td>\n",
       "      <td>1</td>\n",
       "      <td>0</td>\n",
       "      <td>0.0</td>\n",
       "      <td>0</td>\n",
       "      <td>2</td>\n",
       "      <td>1</td>\n",
       "    </tr>\n",
       "    <tr>\n",
       "      <th>2</th>\n",
       "      <td>F00000004</td>\n",
       "      <td>257</td>\n",
       "      <td>1</td>\n",
       "      <td>0</td>\n",
       "      <td>1</td>\n",
       "      <td>0</td>\n",
       "      <td>0.0</td>\n",
       "      <td>0</td>\n",
       "      <td>2</td>\n",
       "      <td>1</td>\n",
       "    </tr>\n",
       "    <tr>\n",
       "      <th>3</th>\n",
       "      <td>F00000005</td>\n",
       "      <td>257</td>\n",
       "      <td>1</td>\n",
       "      <td>1</td>\n",
       "      <td>1</td>\n",
       "      <td>0</td>\n",
       "      <td>0.0</td>\n",
       "      <td>0</td>\n",
       "      <td>2</td>\n",
       "      <td>1</td>\n",
       "    </tr>\n",
       "    <tr>\n",
       "      <th>4</th>\n",
       "      <td>F00000006</td>\n",
       "      <td>342</td>\n",
       "      <td>1</td>\n",
       "      <td>0</td>\n",
       "      <td>1</td>\n",
       "      <td>0</td>\n",
       "      <td>0.0</td>\n",
       "      <td>0</td>\n",
       "      <td>2</td>\n",
       "      <td>1</td>\n",
       "    </tr>\n",
       "    <tr>\n",
       "      <th>5</th>\n",
       "      <td>F00000008</td>\n",
       "      <td>448</td>\n",
       "      <td>0</td>\n",
       "      <td>1</td>\n",
       "      <td>1</td>\n",
       "      <td>0</td>\n",
       "      <td>NaN</td>\n",
       "      <td>0</td>\n",
       "      <td>2</td>\n",
       "      <td>1</td>\n",
       "    </tr>\n",
       "    <tr>\n",
       "      <th>6</th>\n",
       "      <td>F00000009</td>\n",
       "      <td>448</td>\n",
       "      <td>0</td>\n",
       "      <td>1</td>\n",
       "      <td>1</td>\n",
       "      <td>0</td>\n",
       "      <td>NaN</td>\n",
       "      <td>0</td>\n",
       "      <td>2</td>\n",
       "      <td>1</td>\n",
       "    </tr>\n",
       "    <tr>\n",
       "      <th>7</th>\n",
       "      <td>F00000010</td>\n",
       "      <td>577</td>\n",
       "      <td>1</td>\n",
       "      <td>0</td>\n",
       "      <td>1</td>\n",
       "      <td>0</td>\n",
       "      <td>0.0</td>\n",
       "      <td>0</td>\n",
       "      <td>1</td>\n",
       "      <td>2</td>\n",
       "    </tr>\n",
       "    <tr>\n",
       "      <th>8</th>\n",
       "      <td>F00000012</td>\n",
       "      <td>731</td>\n",
       "      <td>0</td>\n",
       "      <td>0</td>\n",
       "      <td>1</td>\n",
       "      <td>0</td>\n",
       "      <td>0.0</td>\n",
       "      <td>0</td>\n",
       "      <td>2</td>\n",
       "      <td>0</td>\n",
       "    </tr>\n",
       "    <tr>\n",
       "      <th>9</th>\n",
       "      <td>F00000020</td>\n",
       "      <td>1132</td>\n",
       "      <td>1</td>\n",
       "      <td>0</td>\n",
       "      <td>1</td>\n",
       "      <td>0</td>\n",
       "      <td>0.0</td>\n",
       "      <td>0</td>\n",
       "      <td>1</td>\n",
       "      <td>2</td>\n",
       "    </tr>\n",
       "  </tbody>\n",
       "</table>\n",
       "</div>"
      ],
      "text/plain": [
       "          ID  Estimated_Insects_Count  Crop_Type  Soil_Type  \\\n",
       "0  F00000001                      188          1          0   \n",
       "1  F00000003                      209          1          0   \n",
       "2  F00000004                      257          1          0   \n",
       "3  F00000005                      257          1          1   \n",
       "4  F00000006                      342          1          0   \n",
       "5  F00000008                      448          0          1   \n",
       "6  F00000009                      448          0          1   \n",
       "7  F00000010                      577          1          0   \n",
       "8  F00000012                      731          0          0   \n",
       "9  F00000020                     1132          1          0   \n",
       "\n",
       "   Pesticide_Use_Category  Number_Doses_Week  Number_Weeks_Used  \\\n",
       "0                       1                  0                0.0   \n",
       "1                       1                  0                0.0   \n",
       "2                       1                  0                0.0   \n",
       "3                       1                  0                0.0   \n",
       "4                       1                  0                0.0   \n",
       "5                       1                  0                NaN   \n",
       "6                       1                  0                NaN   \n",
       "7                       1                  0                0.0   \n",
       "8                       1                  0                0.0   \n",
       "9                       1                  0                0.0   \n",
       "\n",
       "   Number_Weeks_Quit  Season  Crop_Damage  \n",
       "0                  0       1            0  \n",
       "1                  0       2            1  \n",
       "2                  0       2            1  \n",
       "3                  0       2            1  \n",
       "4                  0       2            1  \n",
       "5                  0       2            1  \n",
       "6                  0       2            1  \n",
       "7                  0       1            2  \n",
       "8                  0       2            0  \n",
       "9                  0       1            2  "
      ]
     },
     "execution_count": 56,
     "metadata": {},
     "output_type": "execute_result"
    }
   ],
   "source": [
    "#exploring the first 10 rows of the data\n",
    "df_train.head(10)"
   ]
  },
  {
   "cell_type": "markdown",
   "id": "3e8ecfd0",
   "metadata": {},
   "source": [
    "## Data Preprocessing "
   ]
  },
  {
   "cell_type": "code",
   "execution_count": 57,
   "id": "649f06b9",
   "metadata": {},
   "outputs": [
    {
     "data": {
      "text/plain": [
       "(148168, 11)"
      ]
     },
     "execution_count": 57,
     "metadata": {},
     "output_type": "execute_result"
    }
   ],
   "source": [
    "#Exploring the variables\n",
    "df.shape"
   ]
  },
  {
   "cell_type": "code",
   "execution_count": 58,
   "id": "0e98e7ad",
   "metadata": {},
   "outputs": [
    {
     "data": {
      "text/plain": [
       "Index(['ID', 'Estimated_Insects_Count', 'Crop_Type', 'Soil_Type',\n",
       "       'Pesticide_Use_Category', 'Number_Doses_Week', 'Number_Weeks_Used',\n",
       "       'Number_Weeks_Quit', 'Season', 'Crop_Damage', 'ind'],\n",
       "      dtype='object')"
      ]
     },
     "execution_count": 58,
     "metadata": {},
     "output_type": "execute_result"
    }
   ],
   "source": [
    "df.columns"
   ]
  },
  {
   "cell_type": "code",
   "execution_count": 59,
   "id": "4f9286aa",
   "metadata": {},
   "outputs": [
    {
     "data": {
      "text/html": [
       "<div>\n",
       "<style scoped>\n",
       "    .dataframe tbody tr th:only-of-type {\n",
       "        vertical-align: middle;\n",
       "    }\n",
       "\n",
       "    .dataframe tbody tr th {\n",
       "        vertical-align: top;\n",
       "    }\n",
       "\n",
       "    .dataframe thead th {\n",
       "        text-align: right;\n",
       "    }\n",
       "</style>\n",
       "<table border=\"1\" class=\"dataframe\">\n",
       "  <thead>\n",
       "    <tr style=\"text-align: right;\">\n",
       "      <th></th>\n",
       "      <th>ID</th>\n",
       "      <th>Crop_Damage</th>\n",
       "      <th>Estimated_Insects_Count</th>\n",
       "      <th>Crop_Type</th>\n",
       "      <th>Soil_Type</th>\n",
       "      <th>Pesticide_Use_Category</th>\n",
       "      <th>Number_Doses_Week</th>\n",
       "      <th>Number_Weeks_Used</th>\n",
       "      <th>Number_Weeks_Quit</th>\n",
       "      <th>Season</th>\n",
       "      <th>ind</th>\n",
       "    </tr>\n",
       "  </thead>\n",
       "  <tbody>\n",
       "    <tr>\n",
       "      <th>0</th>\n",
       "      <td>F00000001</td>\n",
       "      <td>0.0</td>\n",
       "      <td>188</td>\n",
       "      <td>1</td>\n",
       "      <td>0</td>\n",
       "      <td>1</td>\n",
       "      <td>0</td>\n",
       "      <td>0.0</td>\n",
       "      <td>0</td>\n",
       "      <td>1</td>\n",
       "      <td>train</td>\n",
       "    </tr>\n",
       "    <tr>\n",
       "      <th>1</th>\n",
       "      <td>F00000003</td>\n",
       "      <td>1.0</td>\n",
       "      <td>209</td>\n",
       "      <td>1</td>\n",
       "      <td>0</td>\n",
       "      <td>1</td>\n",
       "      <td>0</td>\n",
       "      <td>0.0</td>\n",
       "      <td>0</td>\n",
       "      <td>2</td>\n",
       "      <td>train</td>\n",
       "    </tr>\n",
       "    <tr>\n",
       "      <th>2</th>\n",
       "      <td>F00000004</td>\n",
       "      <td>1.0</td>\n",
       "      <td>257</td>\n",
       "      <td>1</td>\n",
       "      <td>0</td>\n",
       "      <td>1</td>\n",
       "      <td>0</td>\n",
       "      <td>0.0</td>\n",
       "      <td>0</td>\n",
       "      <td>2</td>\n",
       "      <td>train</td>\n",
       "    </tr>\n",
       "    <tr>\n",
       "      <th>3</th>\n",
       "      <td>F00000005</td>\n",
       "      <td>1.0</td>\n",
       "      <td>257</td>\n",
       "      <td>1</td>\n",
       "      <td>1</td>\n",
       "      <td>1</td>\n",
       "      <td>0</td>\n",
       "      <td>0.0</td>\n",
       "      <td>0</td>\n",
       "      <td>2</td>\n",
       "      <td>train</td>\n",
       "    </tr>\n",
       "    <tr>\n",
       "      <th>4</th>\n",
       "      <td>F00000006</td>\n",
       "      <td>1.0</td>\n",
       "      <td>342</td>\n",
       "      <td>1</td>\n",
       "      <td>0</td>\n",
       "      <td>1</td>\n",
       "      <td>0</td>\n",
       "      <td>0.0</td>\n",
       "      <td>0</td>\n",
       "      <td>2</td>\n",
       "      <td>train</td>\n",
       "    </tr>\n",
       "    <tr>\n",
       "      <th>5</th>\n",
       "      <td>F00000008</td>\n",
       "      <td>1.0</td>\n",
       "      <td>448</td>\n",
       "      <td>0</td>\n",
       "      <td>1</td>\n",
       "      <td>1</td>\n",
       "      <td>0</td>\n",
       "      <td>NaN</td>\n",
       "      <td>0</td>\n",
       "      <td>2</td>\n",
       "      <td>train</td>\n",
       "    </tr>\n",
       "    <tr>\n",
       "      <th>6</th>\n",
       "      <td>F00000009</td>\n",
       "      <td>1.0</td>\n",
       "      <td>448</td>\n",
       "      <td>0</td>\n",
       "      <td>1</td>\n",
       "      <td>1</td>\n",
       "      <td>0</td>\n",
       "      <td>NaN</td>\n",
       "      <td>0</td>\n",
       "      <td>2</td>\n",
       "      <td>train</td>\n",
       "    </tr>\n",
       "    <tr>\n",
       "      <th>7</th>\n",
       "      <td>F00000010</td>\n",
       "      <td>2.0</td>\n",
       "      <td>577</td>\n",
       "      <td>1</td>\n",
       "      <td>0</td>\n",
       "      <td>1</td>\n",
       "      <td>0</td>\n",
       "      <td>0.0</td>\n",
       "      <td>0</td>\n",
       "      <td>1</td>\n",
       "      <td>train</td>\n",
       "    </tr>\n",
       "    <tr>\n",
       "      <th>8</th>\n",
       "      <td>F00000012</td>\n",
       "      <td>0.0</td>\n",
       "      <td>731</td>\n",
       "      <td>0</td>\n",
       "      <td>0</td>\n",
       "      <td>1</td>\n",
       "      <td>0</td>\n",
       "      <td>0.0</td>\n",
       "      <td>0</td>\n",
       "      <td>2</td>\n",
       "      <td>train</td>\n",
       "    </tr>\n",
       "    <tr>\n",
       "      <th>9</th>\n",
       "      <td>F00000020</td>\n",
       "      <td>2.0</td>\n",
       "      <td>1132</td>\n",
       "      <td>1</td>\n",
       "      <td>0</td>\n",
       "      <td>1</td>\n",
       "      <td>0</td>\n",
       "      <td>0.0</td>\n",
       "      <td>0</td>\n",
       "      <td>1</td>\n",
       "      <td>train</td>\n",
       "    </tr>\n",
       "  </tbody>\n",
       "</table>\n",
       "</div>"
      ],
      "text/plain": [
       "          ID  Crop_Damage  Estimated_Insects_Count  Crop_Type  Soil_Type  \\\n",
       "0  F00000001          0.0                      188          1          0   \n",
       "1  F00000003          1.0                      209          1          0   \n",
       "2  F00000004          1.0                      257          1          0   \n",
       "3  F00000005          1.0                      257          1          1   \n",
       "4  F00000006          1.0                      342          1          0   \n",
       "5  F00000008          1.0                      448          0          1   \n",
       "6  F00000009          1.0                      448          0          1   \n",
       "7  F00000010          2.0                      577          1          0   \n",
       "8  F00000012          0.0                      731          0          0   \n",
       "9  F00000020          2.0                     1132          1          0   \n",
       "\n",
       "   Pesticide_Use_Category  Number_Doses_Week  Number_Weeks_Used  \\\n",
       "0                       1                  0                0.0   \n",
       "1                       1                  0                0.0   \n",
       "2                       1                  0                0.0   \n",
       "3                       1                  0                0.0   \n",
       "4                       1                  0                0.0   \n",
       "5                       1                  0                NaN   \n",
       "6                       1                  0                NaN   \n",
       "7                       1                  0                0.0   \n",
       "8                       1                  0                0.0   \n",
       "9                       1                  0                0.0   \n",
       "\n",
       "   Number_Weeks_Quit  Season    ind  \n",
       "0                  0       1  train  \n",
       "1                  0       2  train  \n",
       "2                  0       2  train  \n",
       "3                  0       2  train  \n",
       "4                  0       2  train  \n",
       "5                  0       2  train  \n",
       "6                  0       2  train  \n",
       "7                  0       1  train  \n",
       "8                  0       2  train  \n",
       "9                  0       1  train  "
      ]
     },
     "execution_count": 59,
     "metadata": {},
     "output_type": "execute_result"
    }
   ],
   "source": [
    "# Move the reponse variable 'crop_damage' to the front of the table\n",
    "front = df['Crop_Damage']\n",
    "\n",
    "# drop(colume name list , axis: 0  for index 1 for columns, inplace means permanent change)\n",
    "df.drop(labels=['Crop_Damage'], axis=1,inplace = True)\n",
    "\n",
    "# insert( insert column location, column to be inserted , values)\n",
    "df.insert(1, 'Crop_Damage', front)\n",
    "df.head(10)"
   ]
  },
  {
   "cell_type": "code",
   "execution_count": 60,
   "id": "f6610de1",
   "metadata": {},
   "outputs": [
    {
     "data": {
      "text/plain": [
       "ID                             0\n",
       "Crop_Damage                59310\n",
       "Estimated_Insects_Count        0\n",
       "Crop_Type                      0\n",
       "Soil_Type                      0\n",
       "Pesticide_Use_Category         0\n",
       "Number_Doses_Week              0\n",
       "Number_Weeks_Used          14893\n",
       "Number_Weeks_Quit              0\n",
       "Season                         0\n",
       "ind                            0\n",
       "dtype: int64"
      ]
     },
     "execution_count": 60,
     "metadata": {},
     "output_type": "execute_result"
    }
   ],
   "source": [
    "#checking if null values are present in any of the columns\n",
    "df.isna().sum()"
   ]
  },
  {
   "cell_type": "markdown",
   "id": "e13750b3",
   "metadata": {},
   "source": [
    "Number_Weeks_Used has 14893 missing values. The missing values are imputated with the median of the column."
   ]
  },
  {
   "cell_type": "code",
   "execution_count": 61,
   "id": "196df7fb",
   "metadata": {},
   "outputs": [
    {
     "data": {
      "text/plain": [
       "ID                             0\n",
       "Crop_Damage                59310\n",
       "Estimated_Insects_Count        0\n",
       "Crop_Type                      0\n",
       "Soil_Type                      0\n",
       "Pesticide_Use_Category         0\n",
       "Number_Doses_Week              0\n",
       "Number_Weeks_Used              0\n",
       "Number_Weeks_Quit              0\n",
       "Season                         0\n",
       "ind                            0\n",
       "dtype: int64"
      ]
     },
     "execution_count": 61,
     "metadata": {},
     "output_type": "execute_result"
    }
   ],
   "source": [
    "df['Number_Weeks_Used'].fillna(df['Number_Weeks_Used'].median(),inplace=True)\n",
    "#check if the missing value is replaced\n",
    "df.isna().sum()"
   ]
  },
  {
   "cell_type": "markdown",
   "id": "66381835",
   "metadata": {},
   "source": [
    "The missing Crop_Damage values are from the test values which are to be predicted.  "
   ]
  },
  {
   "cell_type": "code",
   "execution_count": 62,
   "id": "e70271b5",
   "metadata": {},
   "outputs": [
    {
     "data": {
      "text/plain": [
       "(59310, 9)"
      ]
     },
     "execution_count": 62,
     "metadata": {},
     "output_type": "execute_result"
    }
   ],
   "source": [
    "df_test.shape"
   ]
  },
  {
   "cell_type": "code",
   "execution_count": 63,
   "id": "817127a5",
   "metadata": {},
   "outputs": [
    {
     "data": {
      "text/plain": [
       "ID                         148168\n",
       "Crop_Damage                     3\n",
       "Estimated_Insects_Count        71\n",
       "Crop_Type                       2\n",
       "Soil_Type                       2\n",
       "Pesticide_Use_Category          3\n",
       "Number_Doses_Week              20\n",
       "Number_Weeks_Used              64\n",
       "Number_Weeks_Quit              51\n",
       "Season                          3\n",
       "ind                             2\n",
       "dtype: int64"
      ]
     },
     "execution_count": 63,
     "metadata": {},
     "output_type": "execute_result"
    }
   ],
   "source": [
    "#Number of Unique Values in each column\n",
    "df.nunique()"
   ]
  },
  {
   "cell_type": "code",
   "execution_count": 64,
   "id": "a30c92fe",
   "metadata": {},
   "outputs": [
    {
     "name": "stdout",
     "output_type": "stream",
     "text": [
      "<class 'pandas.core.frame.DataFrame'>\n",
      "Int64Index: 148168 entries, 0 to 59309\n",
      "Data columns (total 11 columns):\n",
      " #   Column                   Non-Null Count   Dtype  \n",
      "---  ------                   --------------   -----  \n",
      " 0   ID                       148168 non-null  object \n",
      " 1   Crop_Damage              88858 non-null   float64\n",
      " 2   Estimated_Insects_Count  148168 non-null  int64  \n",
      " 3   Crop_Type                148168 non-null  int64  \n",
      " 4   Soil_Type                148168 non-null  int64  \n",
      " 5   Pesticide_Use_Category   148168 non-null  int64  \n",
      " 6   Number_Doses_Week        148168 non-null  int64  \n",
      " 7   Number_Weeks_Used        148168 non-null  float64\n",
      " 8   Number_Weeks_Quit        148168 non-null  int64  \n",
      " 9   Season                   148168 non-null  int64  \n",
      " 10  ind                      148168 non-null  object \n",
      "dtypes: float64(2), int64(7), object(2)\n",
      "memory usage: 13.6+ MB\n"
     ]
    }
   ],
   "source": [
    "df.info()"
   ]
  },
  {
   "cell_type": "code",
   "execution_count": 65,
   "id": "c7ebbfa4",
   "metadata": {},
   "outputs": [],
   "source": [
    "#Dropping ID column as it is irrelevant for analysis \n",
    "df = df.drop('ID', axis=1)"
   ]
  },
  {
   "cell_type": "code",
   "execution_count": 66,
   "id": "f7047821",
   "metadata": {},
   "outputs": [
    {
     "data": {
      "text/html": [
       "<div>\n",
       "<style scoped>\n",
       "    .dataframe tbody tr th:only-of-type {\n",
       "        vertical-align: middle;\n",
       "    }\n",
       "\n",
       "    .dataframe tbody tr th {\n",
       "        vertical-align: top;\n",
       "    }\n",
       "\n",
       "    .dataframe thead th {\n",
       "        text-align: right;\n",
       "    }\n",
       "</style>\n",
       "<table border=\"1\" class=\"dataframe\">\n",
       "  <thead>\n",
       "    <tr style=\"text-align: right;\">\n",
       "      <th></th>\n",
       "      <th>Crop_Damage</th>\n",
       "      <th>Estimated_Insects_Count</th>\n",
       "      <th>Crop_Type</th>\n",
       "      <th>Soil_Type</th>\n",
       "      <th>Pesticide_Use_Category</th>\n",
       "      <th>Number_Doses_Week</th>\n",
       "      <th>Number_Weeks_Used</th>\n",
       "      <th>Number_Weeks_Quit</th>\n",
       "      <th>Season</th>\n",
       "    </tr>\n",
       "  </thead>\n",
       "  <tbody>\n",
       "    <tr>\n",
       "      <th>0</th>\n",
       "      <td>0.0</td>\n",
       "      <td>188</td>\n",
       "      <td>1</td>\n",
       "      <td>0</td>\n",
       "      <td>1</td>\n",
       "      <td>0</td>\n",
       "      <td>0.0</td>\n",
       "      <td>0</td>\n",
       "      <td>1</td>\n",
       "    </tr>\n",
       "    <tr>\n",
       "      <th>1</th>\n",
       "      <td>1.0</td>\n",
       "      <td>209</td>\n",
       "      <td>1</td>\n",
       "      <td>0</td>\n",
       "      <td>1</td>\n",
       "      <td>0</td>\n",
       "      <td>0.0</td>\n",
       "      <td>0</td>\n",
       "      <td>2</td>\n",
       "    </tr>\n",
       "    <tr>\n",
       "      <th>2</th>\n",
       "      <td>1.0</td>\n",
       "      <td>257</td>\n",
       "      <td>1</td>\n",
       "      <td>0</td>\n",
       "      <td>1</td>\n",
       "      <td>0</td>\n",
       "      <td>0.0</td>\n",
       "      <td>0</td>\n",
       "      <td>2</td>\n",
       "    </tr>\n",
       "    <tr>\n",
       "      <th>3</th>\n",
       "      <td>1.0</td>\n",
       "      <td>257</td>\n",
       "      <td>1</td>\n",
       "      <td>1</td>\n",
       "      <td>1</td>\n",
       "      <td>0</td>\n",
       "      <td>0.0</td>\n",
       "      <td>0</td>\n",
       "      <td>2</td>\n",
       "    </tr>\n",
       "    <tr>\n",
       "      <th>4</th>\n",
       "      <td>1.0</td>\n",
       "      <td>342</td>\n",
       "      <td>1</td>\n",
       "      <td>0</td>\n",
       "      <td>1</td>\n",
       "      <td>0</td>\n",
       "      <td>0.0</td>\n",
       "      <td>0</td>\n",
       "      <td>2</td>\n",
       "    </tr>\n",
       "    <tr>\n",
       "      <th>...</th>\n",
       "      <td>...</td>\n",
       "      <td>...</td>\n",
       "      <td>...</td>\n",
       "      <td>...</td>\n",
       "      <td>...</td>\n",
       "      <td>...</td>\n",
       "      <td>...</td>\n",
       "      <td>...</td>\n",
       "      <td>...</td>\n",
       "    </tr>\n",
       "    <tr>\n",
       "      <th>88853</th>\n",
       "      <td>0.0</td>\n",
       "      <td>3337</td>\n",
       "      <td>1</td>\n",
       "      <td>0</td>\n",
       "      <td>2</td>\n",
       "      <td>10</td>\n",
       "      <td>12.0</td>\n",
       "      <td>44</td>\n",
       "      <td>3</td>\n",
       "    </tr>\n",
       "    <tr>\n",
       "      <th>88854</th>\n",
       "      <td>0.0</td>\n",
       "      <td>3516</td>\n",
       "      <td>1</td>\n",
       "      <td>0</td>\n",
       "      <td>2</td>\n",
       "      <td>10</td>\n",
       "      <td>20.0</td>\n",
       "      <td>38</td>\n",
       "      <td>1</td>\n",
       "    </tr>\n",
       "    <tr>\n",
       "      <th>88855</th>\n",
       "      <td>0.0</td>\n",
       "      <td>3516</td>\n",
       "      <td>1</td>\n",
       "      <td>0</td>\n",
       "      <td>2</td>\n",
       "      <td>15</td>\n",
       "      <td>40.0</td>\n",
       "      <td>8</td>\n",
       "      <td>2</td>\n",
       "    </tr>\n",
       "    <tr>\n",
       "      <th>88856</th>\n",
       "      <td>0.0</td>\n",
       "      <td>3702</td>\n",
       "      <td>1</td>\n",
       "      <td>0</td>\n",
       "      <td>2</td>\n",
       "      <td>10</td>\n",
       "      <td>25.0</td>\n",
       "      <td>18</td>\n",
       "      <td>3</td>\n",
       "    </tr>\n",
       "    <tr>\n",
       "      <th>88857</th>\n",
       "      <td>0.0</td>\n",
       "      <td>3895</td>\n",
       "      <td>1</td>\n",
       "      <td>0</td>\n",
       "      <td>2</td>\n",
       "      <td>20</td>\n",
       "      <td>37.0</td>\n",
       "      <td>7</td>\n",
       "      <td>3</td>\n",
       "    </tr>\n",
       "  </tbody>\n",
       "</table>\n",
       "<p>88858 rows × 9 columns</p>\n",
       "</div>"
      ],
      "text/plain": [
       "       Crop_Damage  Estimated_Insects_Count  Crop_Type  Soil_Type  \\\n",
       "0              0.0                      188          1          0   \n",
       "1              1.0                      209          1          0   \n",
       "2              1.0                      257          1          0   \n",
       "3              1.0                      257          1          1   \n",
       "4              1.0                      342          1          0   \n",
       "...            ...                      ...        ...        ...   \n",
       "88853          0.0                     3337          1          0   \n",
       "88854          0.0                     3516          1          0   \n",
       "88855          0.0                     3516          1          0   \n",
       "88856          0.0                     3702          1          0   \n",
       "88857          0.0                     3895          1          0   \n",
       "\n",
       "       Pesticide_Use_Category  Number_Doses_Week  Number_Weeks_Used  \\\n",
       "0                           1                  0                0.0   \n",
       "1                           1                  0                0.0   \n",
       "2                           1                  0                0.0   \n",
       "3                           1                  0                0.0   \n",
       "4                           1                  0                0.0   \n",
       "...                       ...                ...                ...   \n",
       "88853                       2                 10               12.0   \n",
       "88854                       2                 10               20.0   \n",
       "88855                       2                 15               40.0   \n",
       "88856                       2                 10               25.0   \n",
       "88857                       2                 20               37.0   \n",
       "\n",
       "       Number_Weeks_Quit  Season  \n",
       "0                      0       1  \n",
       "1                      0       2  \n",
       "2                      0       2  \n",
       "3                      0       2  \n",
       "4                      0       2  \n",
       "...                  ...     ...  \n",
       "88853                 44       3  \n",
       "88854                 38       1  \n",
       "88855                  8       2  \n",
       "88856                 18       3  \n",
       "88857                  7       3  \n",
       "\n",
       "[88858 rows x 9 columns]"
      ]
     },
     "execution_count": 66,
     "metadata": {},
     "output_type": "execute_result"
    }
   ],
   "source": [
    "df_test, df_train = df[df[\"ind\"].eq(\"test\")], df[df[\"ind\"].eq(\"train\")]\n",
    "df_train = df_train.drop('ind', axis=1)\n",
    "df_test = df_test.drop('ind', axis=1)\n",
    "df_train"
   ]
  },
  {
   "cell_type": "code",
   "execution_count": 67,
   "id": "97942eb4",
   "metadata": {
    "scrolled": true
   },
   "outputs": [
    {
     "data": {
      "text/html": [
       "<div>\n",
       "<style scoped>\n",
       "    .dataframe tbody tr th:only-of-type {\n",
       "        vertical-align: middle;\n",
       "    }\n",
       "\n",
       "    .dataframe tbody tr th {\n",
       "        vertical-align: top;\n",
       "    }\n",
       "\n",
       "    .dataframe thead th {\n",
       "        text-align: right;\n",
       "    }\n",
       "</style>\n",
       "<table border=\"1\" class=\"dataframe\">\n",
       "  <thead>\n",
       "    <tr style=\"text-align: right;\">\n",
       "      <th></th>\n",
       "      <th>Crop_Damage</th>\n",
       "      <th>Estimated_Insects_Count</th>\n",
       "      <th>Crop_Type</th>\n",
       "      <th>Soil_Type</th>\n",
       "      <th>Pesticide_Use_Category</th>\n",
       "      <th>Number_Doses_Week</th>\n",
       "      <th>Number_Weeks_Used</th>\n",
       "      <th>Number_Weeks_Quit</th>\n",
       "      <th>Season</th>\n",
       "    </tr>\n",
       "  </thead>\n",
       "  <tbody>\n",
       "    <tr>\n",
       "      <th>count</th>\n",
       "      <td>88858.000000</td>\n",
       "      <td>88858.000000</td>\n",
       "      <td>88858.000000</td>\n",
       "      <td>88858.000000</td>\n",
       "      <td>88858.000000</td>\n",
       "      <td>88858.000000</td>\n",
       "      <td>88858.000000</td>\n",
       "      <td>88858.000000</td>\n",
       "      <td>88858.000000</td>\n",
       "    </tr>\n",
       "    <tr>\n",
       "      <th>mean</th>\n",
       "      <td>0.190562</td>\n",
       "      <td>1399.012210</td>\n",
       "      <td>0.284375</td>\n",
       "      <td>0.458417</td>\n",
       "      <td>2.264186</td>\n",
       "      <td>25.849952</td>\n",
       "      <td>28.560771</td>\n",
       "      <td>9.589986</td>\n",
       "      <td>1.896959</td>\n",
       "    </tr>\n",
       "    <tr>\n",
       "      <th>std</th>\n",
       "      <td>0.454215</td>\n",
       "      <td>849.048781</td>\n",
       "      <td>0.451119</td>\n",
       "      <td>0.498271</td>\n",
       "      <td>0.461772</td>\n",
       "      <td>15.554428</td>\n",
       "      <td>11.749075</td>\n",
       "      <td>9.900631</td>\n",
       "      <td>0.701322</td>\n",
       "    </tr>\n",
       "    <tr>\n",
       "      <th>min</th>\n",
       "      <td>0.000000</td>\n",
       "      <td>150.000000</td>\n",
       "      <td>0.000000</td>\n",
       "      <td>0.000000</td>\n",
       "      <td>1.000000</td>\n",
       "      <td>0.000000</td>\n",
       "      <td>0.000000</td>\n",
       "      <td>0.000000</td>\n",
       "      <td>1.000000</td>\n",
       "    </tr>\n",
       "    <tr>\n",
       "      <th>25%</th>\n",
       "      <td>0.000000</td>\n",
       "      <td>731.000000</td>\n",
       "      <td>0.000000</td>\n",
       "      <td>0.000000</td>\n",
       "      <td>2.000000</td>\n",
       "      <td>15.000000</td>\n",
       "      <td>20.000000</td>\n",
       "      <td>0.000000</td>\n",
       "      <td>1.000000</td>\n",
       "    </tr>\n",
       "    <tr>\n",
       "      <th>50%</th>\n",
       "      <td>0.000000</td>\n",
       "      <td>1212.000000</td>\n",
       "      <td>0.000000</td>\n",
       "      <td>0.000000</td>\n",
       "      <td>2.000000</td>\n",
       "      <td>20.000000</td>\n",
       "      <td>28.000000</td>\n",
       "      <td>7.000000</td>\n",
       "      <td>2.000000</td>\n",
       "    </tr>\n",
       "    <tr>\n",
       "      <th>75%</th>\n",
       "      <td>0.000000</td>\n",
       "      <td>1898.000000</td>\n",
       "      <td>1.000000</td>\n",
       "      <td>1.000000</td>\n",
       "      <td>3.000000</td>\n",
       "      <td>40.000000</td>\n",
       "      <td>36.000000</td>\n",
       "      <td>16.000000</td>\n",
       "      <td>2.000000</td>\n",
       "    </tr>\n",
       "    <tr>\n",
       "      <th>max</th>\n",
       "      <td>2.000000</td>\n",
       "      <td>4097.000000</td>\n",
       "      <td>1.000000</td>\n",
       "      <td>1.000000</td>\n",
       "      <td>3.000000</td>\n",
       "      <td>95.000000</td>\n",
       "      <td>67.000000</td>\n",
       "      <td>50.000000</td>\n",
       "      <td>3.000000</td>\n",
       "    </tr>\n",
       "  </tbody>\n",
       "</table>\n",
       "</div>"
      ],
      "text/plain": [
       "        Crop_Damage  Estimated_Insects_Count     Crop_Type     Soil_Type  \\\n",
       "count  88858.000000             88858.000000  88858.000000  88858.000000   \n",
       "mean       0.190562              1399.012210      0.284375      0.458417   \n",
       "std        0.454215               849.048781      0.451119      0.498271   \n",
       "min        0.000000               150.000000      0.000000      0.000000   \n",
       "25%        0.000000               731.000000      0.000000      0.000000   \n",
       "50%        0.000000              1212.000000      0.000000      0.000000   \n",
       "75%        0.000000              1898.000000      1.000000      1.000000   \n",
       "max        2.000000              4097.000000      1.000000      1.000000   \n",
       "\n",
       "       Pesticide_Use_Category  Number_Doses_Week  Number_Weeks_Used  \\\n",
       "count            88858.000000       88858.000000       88858.000000   \n",
       "mean                 2.264186          25.849952          28.560771   \n",
       "std                  0.461772          15.554428          11.749075   \n",
       "min                  1.000000           0.000000           0.000000   \n",
       "25%                  2.000000          15.000000          20.000000   \n",
       "50%                  2.000000          20.000000          28.000000   \n",
       "75%                  3.000000          40.000000          36.000000   \n",
       "max                  3.000000          95.000000          67.000000   \n",
       "\n",
       "       Number_Weeks_Quit        Season  \n",
       "count       88858.000000  88858.000000  \n",
       "mean            9.589986      1.896959  \n",
       "std             9.900631      0.701322  \n",
       "min             0.000000      1.000000  \n",
       "25%             0.000000      1.000000  \n",
       "50%             7.000000      2.000000  \n",
       "75%            16.000000      2.000000  \n",
       "max            50.000000      3.000000  "
      ]
     },
     "execution_count": 67,
     "metadata": {},
     "output_type": "execute_result"
    }
   ],
   "source": [
    "#data statistics\n",
    "df_train.describe()"
   ]
  },
  {
   "cell_type": "code",
   "execution_count": 68,
   "id": "aaf1ecb0",
   "metadata": {},
   "outputs": [
    {
     "data": {
      "text/plain": [
       "0.0    74238\n",
       "1.0    12307\n",
       "2.0     2313\n",
       "Name: Crop_Damage, dtype: int64"
      ]
     },
     "execution_count": 68,
     "metadata": {},
     "output_type": "execute_result"
    }
   ],
   "source": [
    "#Exploring the Crop Damage column (Types of Crop Damage - 0 => alive, 1 => Damage due to other causes, 2 => Damage due to Pesticides))\n",
    "df_train['Crop_Damage'].value_counts()"
   ]
  },
  {
   "cell_type": "code",
   "execution_count": 69,
   "id": "9ed7f1ce",
   "metadata": {},
   "outputs": [
    {
     "data": {
      "text/html": [
       "<div>\n",
       "<style scoped>\n",
       "    .dataframe tbody tr th:only-of-type {\n",
       "        vertical-align: middle;\n",
       "    }\n",
       "\n",
       "    .dataframe tbody tr th {\n",
       "        vertical-align: top;\n",
       "    }\n",
       "\n",
       "    .dataframe thead th {\n",
       "        text-align: right;\n",
       "    }\n",
       "</style>\n",
       "<table border=\"1\" class=\"dataframe\">\n",
       "  <thead>\n",
       "    <tr style=\"text-align: right;\">\n",
       "      <th></th>\n",
       "      <th>Estimated_Insects_Count</th>\n",
       "      <th>Crop_Type</th>\n",
       "      <th>Soil_Type</th>\n",
       "      <th>Pesticide_Use_Category</th>\n",
       "      <th>Number_Doses_Week</th>\n",
       "      <th>Number_Weeks_Used</th>\n",
       "      <th>Number_Weeks_Quit</th>\n",
       "      <th>Season</th>\n",
       "    </tr>\n",
       "    <tr>\n",
       "      <th>Crop_Damage</th>\n",
       "      <th></th>\n",
       "      <th></th>\n",
       "      <th></th>\n",
       "      <th></th>\n",
       "      <th></th>\n",
       "      <th></th>\n",
       "      <th></th>\n",
       "      <th></th>\n",
       "    </tr>\n",
       "  </thead>\n",
       "  <tbody>\n",
       "    <tr>\n",
       "      <th>0.0</th>\n",
       "      <td>1315.707387</td>\n",
       "      <td>0.289070</td>\n",
       "      <td>0.463334</td>\n",
       "      <td>2.229586</td>\n",
       "      <td>26.119238</td>\n",
       "      <td>27.415299</td>\n",
       "      <td>10.110644</td>\n",
       "      <td>1.897236</td>\n",
       "    </tr>\n",
       "    <tr>\n",
       "      <th>1.0</th>\n",
       "      <td>1839.106200</td>\n",
       "      <td>0.252133</td>\n",
       "      <td>0.435037</td>\n",
       "      <td>2.416592</td>\n",
       "      <td>24.176079</td>\n",
       "      <td>33.921508</td>\n",
       "      <td>7.630698</td>\n",
       "      <td>1.894044</td>\n",
       "    </tr>\n",
       "    <tr>\n",
       "      <th>2.0</th>\n",
       "      <td>1731.111976</td>\n",
       "      <td>0.305231</td>\n",
       "      <td>0.424989</td>\n",
       "      <td>2.563770</td>\n",
       "      <td>26.113273</td>\n",
       "      <td>36.802421</td>\n",
       "      <td>3.303934</td>\n",
       "      <td>1.903588</td>\n",
       "    </tr>\n",
       "  </tbody>\n",
       "</table>\n",
       "</div>"
      ],
      "text/plain": [
       "             Estimated_Insects_Count  Crop_Type  Soil_Type  \\\n",
       "Crop_Damage                                                  \n",
       "0.0                      1315.707387   0.289070   0.463334   \n",
       "1.0                      1839.106200   0.252133   0.435037   \n",
       "2.0                      1731.111976   0.305231   0.424989   \n",
       "\n",
       "             Pesticide_Use_Category  Number_Doses_Week  Number_Weeks_Used  \\\n",
       "Crop_Damage                                                                 \n",
       "0.0                        2.229586          26.119238          27.415299   \n",
       "1.0                        2.416592          24.176079          33.921508   \n",
       "2.0                        2.563770          26.113273          36.802421   \n",
       "\n",
       "             Number_Weeks_Quit    Season  \n",
       "Crop_Damage                               \n",
       "0.0                  10.110644  1.897236  \n",
       "1.0                   7.630698  1.894044  \n",
       "2.0                   3.303934  1.903588  "
      ]
     },
     "execution_count": 69,
     "metadata": {},
     "output_type": "execute_result"
    }
   ],
   "source": [
    "df_train.groupby('Crop_Damage').mean()"
   ]
  },
  {
   "cell_type": "code",
   "execution_count": 70,
   "id": "7702e8f6",
   "metadata": {},
   "outputs": [
    {
     "data": {
      "text/html": [
       "<div>\n",
       "<style scoped>\n",
       "    .dataframe tbody tr th:only-of-type {\n",
       "        vertical-align: middle;\n",
       "    }\n",
       "\n",
       "    .dataframe tbody tr th {\n",
       "        vertical-align: top;\n",
       "    }\n",
       "\n",
       "    .dataframe thead th {\n",
       "        text-align: right;\n",
       "    }\n",
       "</style>\n",
       "<table border=\"1\" class=\"dataframe\">\n",
       "  <thead>\n",
       "    <tr style=\"text-align: right;\">\n",
       "      <th></th>\n",
       "      <th>Crop_Damage</th>\n",
       "      <th>Estimated_Insects_Count</th>\n",
       "      <th>Soil_Type</th>\n",
       "      <th>Pesticide_Use_Category</th>\n",
       "      <th>Number_Doses_Week</th>\n",
       "      <th>Number_Weeks_Used</th>\n",
       "      <th>Number_Weeks_Quit</th>\n",
       "      <th>Season</th>\n",
       "    </tr>\n",
       "    <tr>\n",
       "      <th>Crop_Type</th>\n",
       "      <th></th>\n",
       "      <th></th>\n",
       "      <th></th>\n",
       "      <th></th>\n",
       "      <th></th>\n",
       "      <th></th>\n",
       "      <th></th>\n",
       "      <th></th>\n",
       "    </tr>\n",
       "  </thead>\n",
       "  <tbody>\n",
       "    <tr>\n",
       "      <th>0</th>\n",
       "      <td>0.195285</td>\n",
       "      <td>1446.555977</td>\n",
       "      <td>0.548680</td>\n",
       "      <td>2.195553</td>\n",
       "      <td>27.734121</td>\n",
       "      <td>28.869852</td>\n",
       "      <td>11.046628</td>\n",
       "      <td>1.896004</td>\n",
       "    </tr>\n",
       "    <tr>\n",
       "      <th>1</th>\n",
       "      <td>0.178677</td>\n",
       "      <td>1279.369148</td>\n",
       "      <td>0.231272</td>\n",
       "      <td>2.436899</td>\n",
       "      <td>21.108473</td>\n",
       "      <td>27.782975</td>\n",
       "      <td>5.924374</td>\n",
       "      <td>1.899363</td>\n",
       "    </tr>\n",
       "  </tbody>\n",
       "</table>\n",
       "</div>"
      ],
      "text/plain": [
       "           Crop_Damage  Estimated_Insects_Count  Soil_Type  \\\n",
       "Crop_Type                                                    \n",
       "0             0.195285              1446.555977   0.548680   \n",
       "1             0.178677              1279.369148   0.231272   \n",
       "\n",
       "           Pesticide_Use_Category  Number_Doses_Week  Number_Weeks_Used  \\\n",
       "Crop_Type                                                                 \n",
       "0                        2.195553          27.734121          28.869852   \n",
       "1                        2.436899          21.108473          27.782975   \n",
       "\n",
       "           Number_Weeks_Quit    Season  \n",
       "Crop_Type                               \n",
       "0                  11.046628  1.896004  \n",
       "1                   5.924374  1.899363  "
      ]
     },
     "execution_count": 70,
     "metadata": {},
     "output_type": "execute_result"
    }
   ],
   "source": [
    "df_train.groupby('Crop_Type').mean()"
   ]
  },
  {
   "cell_type": "code",
   "execution_count": 71,
   "id": "2cf255fa",
   "metadata": {},
   "outputs": [
    {
     "data": {
      "text/html": [
       "<div>\n",
       "<style scoped>\n",
       "    .dataframe tbody tr th:only-of-type {\n",
       "        vertical-align: middle;\n",
       "    }\n",
       "\n",
       "    .dataframe tbody tr th {\n",
       "        vertical-align: top;\n",
       "    }\n",
       "\n",
       "    .dataframe thead th {\n",
       "        text-align: right;\n",
       "    }\n",
       "</style>\n",
       "<table border=\"1\" class=\"dataframe\">\n",
       "  <thead>\n",
       "    <tr style=\"text-align: right;\">\n",
       "      <th></th>\n",
       "      <th>Crop_Damage</th>\n",
       "      <th>Estimated_Insects_Count</th>\n",
       "      <th>Crop_Type</th>\n",
       "      <th>Pesticide_Use_Category</th>\n",
       "      <th>Number_Doses_Week</th>\n",
       "      <th>Number_Weeks_Used</th>\n",
       "      <th>Number_Weeks_Quit</th>\n",
       "      <th>Season</th>\n",
       "    </tr>\n",
       "    <tr>\n",
       "      <th>Soil_Type</th>\n",
       "      <th></th>\n",
       "      <th></th>\n",
       "      <th></th>\n",
       "      <th></th>\n",
       "      <th></th>\n",
       "      <th></th>\n",
       "      <th></th>\n",
       "      <th></th>\n",
       "    </tr>\n",
       "  </thead>\n",
       "  <tbody>\n",
       "    <tr>\n",
       "      <th>0</th>\n",
       "      <td>0.199755</td>\n",
       "      <td>1443.049019</td>\n",
       "      <td>0.403645</td>\n",
       "      <td>2.250312</td>\n",
       "      <td>24.713033</td>\n",
       "      <td>29.277512</td>\n",
       "      <td>9.504696</td>\n",
       "      <td>1.895458</td>\n",
       "    </tr>\n",
       "    <tr>\n",
       "      <th>1</th>\n",
       "      <td>0.179702</td>\n",
       "      <td>1346.986203</td>\n",
       "      <td>0.143467</td>\n",
       "      <td>2.280576</td>\n",
       "      <td>27.193131</td>\n",
       "      <td>27.713998</td>\n",
       "      <td>9.690750</td>\n",
       "      <td>1.898733</td>\n",
       "    </tr>\n",
       "  </tbody>\n",
       "</table>\n",
       "</div>"
      ],
      "text/plain": [
       "           Crop_Damage  Estimated_Insects_Count  Crop_Type  \\\n",
       "Soil_Type                                                    \n",
       "0             0.199755              1443.049019   0.403645   \n",
       "1             0.179702              1346.986203   0.143467   \n",
       "\n",
       "           Pesticide_Use_Category  Number_Doses_Week  Number_Weeks_Used  \\\n",
       "Soil_Type                                                                 \n",
       "0                        2.250312          24.713033          29.277512   \n",
       "1                        2.280576          27.193131          27.713998   \n",
       "\n",
       "           Number_Weeks_Quit    Season  \n",
       "Soil_Type                               \n",
       "0                   9.504696  1.895458  \n",
       "1                   9.690750  1.898733  "
      ]
     },
     "execution_count": 71,
     "metadata": {},
     "output_type": "execute_result"
    }
   ],
   "source": [
    "df_train.groupby('Soil_Type').mean()"
   ]
  },
  {
   "cell_type": "code",
   "execution_count": 72,
   "id": "5fbccc0f",
   "metadata": {},
   "outputs": [
    {
     "data": {
      "text/html": [
       "<div>\n",
       "<style scoped>\n",
       "    .dataframe tbody tr th:only-of-type {\n",
       "        vertical-align: middle;\n",
       "    }\n",
       "\n",
       "    .dataframe tbody tr th {\n",
       "        vertical-align: top;\n",
       "    }\n",
       "\n",
       "    .dataframe thead th {\n",
       "        text-align: right;\n",
       "    }\n",
       "</style>\n",
       "<table border=\"1\" class=\"dataframe\">\n",
       "  <thead>\n",
       "    <tr style=\"text-align: right;\">\n",
       "      <th></th>\n",
       "      <th>Crop_Damage</th>\n",
       "      <th>Estimated_Insects_Count</th>\n",
       "      <th>Crop_Type</th>\n",
       "      <th>Soil_Type</th>\n",
       "      <th>Pesticide_Use_Category</th>\n",
       "      <th>Number_Doses_Week</th>\n",
       "      <th>Number_Weeks_Used</th>\n",
       "      <th>Number_Weeks_Quit</th>\n",
       "    </tr>\n",
       "    <tr>\n",
       "      <th>Season</th>\n",
       "      <th></th>\n",
       "      <th></th>\n",
       "      <th></th>\n",
       "      <th></th>\n",
       "      <th></th>\n",
       "      <th></th>\n",
       "      <th></th>\n",
       "      <th></th>\n",
       "    </tr>\n",
       "  </thead>\n",
       "  <tbody>\n",
       "    <tr>\n",
       "      <th>1</th>\n",
       "      <td>0.188462</td>\n",
       "      <td>1394.991673</td>\n",
       "      <td>0.283734</td>\n",
       "      <td>0.457661</td>\n",
       "      <td>2.263103</td>\n",
       "      <td>25.881719</td>\n",
       "      <td>28.463274</td>\n",
       "      <td>9.600810</td>\n",
       "    </tr>\n",
       "    <tr>\n",
       "      <th>2</th>\n",
       "      <td>0.193237</td>\n",
       "      <td>1401.148224</td>\n",
       "      <td>0.283782</td>\n",
       "      <td>0.457702</td>\n",
       "      <td>2.263673</td>\n",
       "      <td>25.842004</td>\n",
       "      <td>28.610654</td>\n",
       "      <td>9.568514</td>\n",
       "    </tr>\n",
       "    <tr>\n",
       "      <th>3</th>\n",
       "      <td>0.187084</td>\n",
       "      <td>1399.785755</td>\n",
       "      <td>0.286825</td>\n",
       "      <td>0.461343</td>\n",
       "      <td>2.267102</td>\n",
       "      <td>25.821594</td>\n",
       "      <td>28.584301</td>\n",
       "      <td>9.627071</td>\n",
       "    </tr>\n",
       "  </tbody>\n",
       "</table>\n",
       "</div>"
      ],
      "text/plain": [
       "        Crop_Damage  Estimated_Insects_Count  Crop_Type  Soil_Type  \\\n",
       "Season                                                               \n",
       "1          0.188462              1394.991673   0.283734   0.457661   \n",
       "2          0.193237              1401.148224   0.283782   0.457702   \n",
       "3          0.187084              1399.785755   0.286825   0.461343   \n",
       "\n",
       "        Pesticide_Use_Category  Number_Doses_Week  Number_Weeks_Used  \\\n",
       "Season                                                                 \n",
       "1                     2.263103          25.881719          28.463274   \n",
       "2                     2.263673          25.842004          28.610654   \n",
       "3                     2.267102          25.821594          28.584301   \n",
       "\n",
       "        Number_Weeks_Quit  \n",
       "Season                     \n",
       "1                9.600810  \n",
       "2                9.568514  \n",
       "3                9.627071  "
      ]
     },
     "execution_count": 72,
     "metadata": {},
     "output_type": "execute_result"
    }
   ],
   "source": [
    "df_train.groupby('Season').mean()"
   ]
  },
  {
   "cell_type": "markdown",
   "id": "bd41db69",
   "metadata": {},
   "source": [
    "### Quick Observations "
   ]
  },
  {
   "cell_type": "markdown",
   "id": "f8908a79",
   "metadata": {},
   "source": [
    "(i) The average insects count for crop 1 seems to be the highest for crop damage type 1, which is damage due to reason other than pesticide. This damage could be due to high number of insects. \\\n",
    "(ii) Crop Type 0 appears to have the highest damage as it has the highest insect count and highest number of doses and number of weeks of pesticide use.\\\n",
    "(iii) Soil type 0 has the highest crop damage. \\\n",
    "(iv) The average crop damage and insects count for season 2 seems to be the highest for crop damage. This damage could be due to high number of insects as well as the weather condition. "
   ]
  },
  {
   "cell_type": "markdown",
   "id": "7f0857b8",
   "metadata": {},
   "source": [
    "## Exploratory Data Analysis "
   ]
  },
  {
   "cell_type": "markdown",
   "id": "3eaa2a7c",
   "metadata": {},
   "source": [
    "### Crop Damage Count by Crop Type"
   ]
  },
  {
   "cell_type": "code",
   "execution_count": 73,
   "id": "094e7a71",
   "metadata": {},
   "outputs": [
    {
     "data": {
      "text/plain": [
       "Text(0.5, 1.0, 'Crop Damage by Crop Type')"
      ]
     },
     "execution_count": 73,
     "metadata": {},
     "output_type": "execute_result"
    },
    {
     "data": {
      "image/png": "[encoded data removed]",
      "text/plain": [
       "<Figure size 720x720 with 1 Axes>"
      ]
     },
     "metadata": {},
     "output_type": "display_data"
    }
   ],
   "source": [
    "sns.countplot(x='Crop_Type', hue='Crop_Damage', data=df_train).set_title('Crop Damage by Crop Type')"
   ]
  },
  {
   "cell_type": "markdown",
   "id": "dbd8debe",
   "metadata": {},
   "source": [
    "Crop damage due to other reason is higher in both crop type 0 and 1 compared to crop damage due to pesticide. \\\n",
    "Overall, crop type 0 has a higher chance of survival compared to crop type 1. "
   ]
  },
  {
   "cell_type": "markdown",
   "id": "5090c21f",
   "metadata": {},
   "source": [
    "### Pesticide Use Categrory Analysis \n"
   ]
  },
  {
   "cell_type": "code",
   "execution_count": 74,
   "id": "64366c0d",
   "metadata": {},
   "outputs": [
    {
     "data": {
      "image/png": "[encoded data removed]",
      "text/plain": [
       "<Figure size 720x720 with 1 Axes>"
      ]
     },
     "metadata": {},
     "output_type": "display_data"
    }
   ],
   "source": [
    "pd.crosstab(df_train.Pesticide_Use_Category, df_train.Crop_Damage)\n",
    "#Plotting the result\n",
    "plt.subplot(2,1,1)\n",
    "sns.set(rc={'figure.figsize':(8,8)})\n",
    "sns.countplot(\"Pesticide_Use_Category\",data=df_train,hue=\"Crop_Damage\", palette=\"hls\")\n",
    "plt.ylabel(\"Count\")\n",
    "plt.xlabel(\"Pesticide_Use_Category\")\n",
    "plt.title(\"Pesticide_Use_Category vs Crop Damage \")\n",
    "plt.show()"
   ]
  },
  {
   "cell_type": "markdown",
   "id": "7c5716fa",
   "metadata": {},
   "source": [
    "From the plot above, it can be seen that crops have highest chance of survival when pesticide 2 is used.\\\n",
    "Pesticide 1 has no effect on the survival of the crops.\\\n",
    "Pesticide 3 has the highest pesticide related damage to the crops. "
   ]
  },
  {
   "cell_type": "markdown",
   "id": "7751e990",
   "metadata": {},
   "source": [
    "### Number of Insects vs Crop Damage "
   ]
  },
  {
   "cell_type": "code",
   "execution_count": 75,
   "id": "e4f626c0",
   "metadata": {},
   "outputs": [
    {
     "data": {
      "text/plain": [
       "<AxesSubplot:xlabel='Crop_Damage', ylabel='Estimated_Insects_Count'>"
      ]
     },
     "execution_count": 75,
     "metadata": {},
     "output_type": "execute_result"
    },
    {
     "data": {
      "image/png": "[encoded data removed]",
      "text/plain": [
       "<Figure size 360x360 with 1 Axes>"
      ]
     },
     "metadata": {},
     "output_type": "display_data"
    }
   ],
   "source": [
    "sns.set(rc={'figure.figsize':(5,5)})\n",
    "sns.barplot(x='Crop_Damage', y='Estimated_Insects_Count', data=df_train, hue='Crop_Type')"
   ]
  },
  {
   "cell_type": "markdown",
   "id": "e5d9b175",
   "metadata": {},
   "source": [
    "Crop type 0 has the highest number of insects count and it appears to be one of the contributing factors for damage due to other reasons. "
   ]
  },
  {
   "cell_type": "markdown",
   "id": "479a9883",
   "metadata": {},
   "source": [
    "### Crop Damage by Season \n"
   ]
  },
  {
   "cell_type": "code",
   "execution_count": 76,
   "id": "48f68f3b",
   "metadata": {},
   "outputs": [
    {
     "data": {
      "image/png": "[encoded data removed]",
      "text/plain": [
       "<Figure size 360x360 with 1 Axes>"
      ]
     },
     "metadata": {},
     "output_type": "display_data"
    }
   ],
   "source": [
    "pd.crosstab(df_train.Season, df_train.Crop_Damage)\n",
    "plt.subplot(2,1,1)\n",
    "sns.set(rc={'figure.figsize':(8,8)})\n",
    "sns.countplot(\"Season\",data=df_train,hue=\"Crop_Damage\")\n",
    "plt.ylabel(\"Count\")\n",
    "plt.xlabel(\"Season_Category\")\n",
    "plt.title(\"Season vs Crop Damage\")\n",
    "plt.show()"
   ]
  },
  {
   "cell_type": "markdown",
   "id": "b5cb7bef",
   "metadata": {},
   "source": [
    "The damage to the crops due to other reasons and pesticide is the highest in season 2. "
   ]
  },
  {
   "cell_type": "markdown",
   "id": "b344d431",
   "metadata": {},
   "source": [
    "### Crop Damage by Soil Type "
   ]
  },
  {
   "cell_type": "code",
   "execution_count": 77,
   "id": "f3745807",
   "metadata": {},
   "outputs": [
    {
     "data": {
      "image/png": "[encoded data removed]",
      "text/plain": [
       "<Figure size 576x576 with 1 Axes>"
      ]
     },
     "metadata": {},
     "output_type": "display_data"
    }
   ],
   "source": [
    "pd.crosstab(df_train.Soil_Type, df_train.Crop_Damage)\n",
    "plt.subplot(2,1,1)\n",
    "sns.set(rc={'figure.figsize':(8,8)})\n",
    "sns.countplot(\"Soil_Type\",data=df_train,hue=\"Crop_Damage\")\n",
    "plt.ylabel(\"Count\")\n",
    "plt.xlabel(\"Soil_Category\")\n",
    "plt.title(\"Soil vs Crop Damage\")\n",
    "plt.show()"
   ]
  },
  {
   "cell_type": "markdown",
   "id": "6fb11ded",
   "metadata": {},
   "source": [
    "Damage to the crops due to reasons other than pesticide is higher in soil category 0. At the same time, \n",
    "damage due to pesticide is also slight higher in soil type 0. "
   ]
  },
  {
   "cell_type": "markdown",
   "id": "618ade8b",
   "metadata": {},
   "source": [
    "### Week Number and Damage"
   ]
  },
  {
   "cell_type": "code",
   "execution_count": 78,
   "id": "53dcdd26",
   "metadata": {},
   "outputs": [
    {
     "data": {
      "image/png": "[encoded data removed]",
      "text/plain": [
       "<Figure size 720x720 with 1 Axes>"
      ]
     },
     "metadata": {},
     "output_type": "display_data"
    }
   ],
   "source": [
    "pd.crosstab(df_train.Number_Doses_Week, df_train.Crop_Damage)\n",
    "sns.set(rc={'figure.figsize':(10,10)})\n",
    "plt.subplot(2,1,1)\n",
    "sns.countplot(\"Number_Doses_Week\",data=df_train,hue=\"Crop_Damage\")\n",
    "plt.ylabel(\"Count\")\n",
    "plt.xlabel(\"Number_Doses_Week\")\n",
    "plt.title(\"Damage vs Week of Dose\")\n",
    "plt.show()"
   ]
  },
  {
   "cell_type": "markdown",
   "id": "4dd64e07",
   "metadata": {},
   "source": [
    "Crops appears to have the high survival rate when pesticide is used between weeks 5 and 10."
   ]
  },
  {
   "cell_type": "markdown",
   "id": "20e8aa5e",
   "metadata": {},
   "source": [
    "#### Damage vs Number of Weeks Pesticide is Used"
   ]
  },
  {
   "cell_type": "code",
   "execution_count": 79,
   "id": "61e85929",
   "metadata": {},
   "outputs": [
    {
     "data": {
      "image/png": "[encoded data removed]",
      "text/plain": [
       "<Figure size 864x288 with 3 Axes>"
      ]
     },
     "metadata": {},
     "output_type": "display_data"
    }
   ],
   "source": [
    "fert_use = sns.FacetGrid(df_train, col='Crop_Damage',size=4)\n",
    "fert_use = fert_use.map(sns.distplot, \"Number_Weeks_Used\")\n",
    "plt.show()"
   ]
  },
  {
   "cell_type": "markdown",
   "id": "162f1b3f",
   "metadata": {},
   "source": [
    "From the plots above, survival of crops declines significantly after 20 weeks of fertilizer use. \\\n",
    "Damage to the crops due to pesticide use appears to be the highest after 20 weeks of constant use. "
   ]
  },
  {
   "cell_type": "markdown",
   "id": "70b8d481",
   "metadata": {},
   "source": [
    "### Detecting Outliers "
   ]
  },
  {
   "cell_type": "markdown",
   "id": "04af6a3f",
   "metadata": {},
   "source": [
    "Outliers in the attributes are detected with the help of a box plot. "
   ]
  },
  {
   "cell_type": "code",
   "execution_count": 80,
   "id": "0a55d4cb",
   "metadata": {},
   "outputs": [
    {
     "data": {
      "text/plain": [
       "Crop_Damage                    AxesSubplot(0.125,0.71587;0.168478x0.16413)\n",
       "Estimated_Insects_Count     AxesSubplot(0.327174,0.71587;0.168478x0.16413)\n",
       "Crop_Type                   AxesSubplot(0.529348,0.71587;0.168478x0.16413)\n",
       "Soil_Type                   AxesSubplot(0.731522,0.71587;0.168478x0.16413)\n",
       "Pesticide_Use_Category        AxesSubplot(0.125,0.518913;0.168478x0.16413)\n",
       "Number_Doses_Week          AxesSubplot(0.327174,0.518913;0.168478x0.16413)\n",
       "Number_Weeks_Used          AxesSubplot(0.529348,0.518913;0.168478x0.16413)\n",
       "Number_Weeks_Quit          AxesSubplot(0.731522,0.518913;0.168478x0.16413)\n",
       "Season                        AxesSubplot(0.125,0.321957;0.168478x0.16413)\n",
       "dtype: object"
      ]
     },
     "execution_count": 80,
     "metadata": {},
     "output_type": "execute_result"
    },
    {
     "data": {
      "image/png": "[encoded data removed]",
      "text/plain": [
       "<Figure size 1440x1080 with 16 Axes>"
      ]
     },
     "metadata": {},
     "output_type": "display_data"
    }
   ],
   "source": [
    "df_train.plot(kind=\"box\",subplots=True,layout=(4,4),figsize=(20,15))"
   ]
  },
  {
   "cell_type": "markdown",
   "id": "5ae1aef8",
   "metadata": {},
   "source": [
    "The attributes Estimated_Insects_Count, Number_Doses_Week, Number_Weeks_Used and Number_Weeks_Quit have a high number of outliers. These outlier values are replaced with the median values of their respective attributes. "
   ]
  },
  {
   "cell_type": "code",
   "execution_count": 81,
   "id": "d1cc4498",
   "metadata": {},
   "outputs": [],
   "source": [
    "df_train.loc[df_train['Number_Weeks_Used']>55,'Number_Weeks_Used'] = np.median(df_train[\"Number_Weeks_Used\"])\n",
    "df_train.loc[df_train['Estimated_Insects_Count']>3500,'Estimated_Insects_Count'] = np.median(df_train[\"Estimated_Insects_Count\"])\n",
    "df_train.loc[df_train['Number_Weeks_Quit']>40,'Number_Weeks_Quit'] = np.median(df_train[\"Number_Weeks_Quit\"])\n",
    "df_train.loc[df_train['Number_Doses_Week']>80,'Number_Doses_Week'] = np.median(df_train[\"Number_Doses_Week\"])"
   ]
  },
  {
   "cell_type": "code",
   "execution_count": 82,
   "id": "2bcb8f58",
   "metadata": {},
   "outputs": [
    {
     "data": {
      "text/plain": [
       "Crop_Damage                    AxesSubplot(0.125,0.71587;0.168478x0.16413)\n",
       "Estimated_Insects_Count     AxesSubplot(0.327174,0.71587;0.168478x0.16413)\n",
       "Crop_Type                   AxesSubplot(0.529348,0.71587;0.168478x0.16413)\n",
       "Soil_Type                   AxesSubplot(0.731522,0.71587;0.168478x0.16413)\n",
       "Pesticide_Use_Category        AxesSubplot(0.125,0.518913;0.168478x0.16413)\n",
       "Number_Doses_Week          AxesSubplot(0.327174,0.518913;0.168478x0.16413)\n",
       "Number_Weeks_Used          AxesSubplot(0.529348,0.518913;0.168478x0.16413)\n",
       "Number_Weeks_Quit          AxesSubplot(0.731522,0.518913;0.168478x0.16413)\n",
       "Season                        AxesSubplot(0.125,0.321957;0.168478x0.16413)\n",
       "dtype: object"
      ]
     },
     "execution_count": 82,
     "metadata": {},
     "output_type": "execute_result"
    },
    {
     "data": {
      "image/png": "[encoded data removed]",
      "text/plain": [
       "<Figure size 1440x1080 with 16 Axes>"
      ]
     },
     "metadata": {},
     "output_type": "display_data"
    }
   ],
   "source": [
    "df_train.plot(kind=\"box\",subplots=True,layout=(4,4),figsize=(20,15))"
   ]
  },
  {
   "cell_type": "markdown",
   "id": "e5fc522b",
   "metadata": {},
   "source": [
    "The outliers in the attributes have been succesfully removed. "
   ]
  },
  {
   "cell_type": "markdown",
   "id": "780391b2",
   "metadata": {},
   "source": [
    "### Correlation Heatmap "
   ]
  },
  {
   "cell_type": "code",
   "execution_count": 83,
   "id": "cf709426",
   "metadata": {},
   "outputs": [
    {
     "data": {
      "text/plain": [
       "Text(0.5, 1.0, 'Correlation Heatmap between the Attributes')"
      ]
     },
     "execution_count": 83,
     "metadata": {},
     "output_type": "execute_result"
    },
    {
     "data": {
      "image/png": "[encoded data removed]",
      "text/plain": [
       "<Figure size 648x648 with 2 Axes>"
      ]
     },
     "metadata": {},
     "output_type": "display_data"
    }
   ],
   "source": [
    "fig, ax = plt.subplots(figsize=(9, 9))\n",
    "cmap= sns.diverging_palette(230,20,as_cmap=True)\n",
    "#pearson_corr_coff\n",
    "corr_p = df_train.corr()\n",
    "sns.heatmap(corr_p, square=True, cmap=cmap, vmin= -1, vmax = 1, annot=True).set_title('Correlation Heatmap between the Attributes')"
   ]
  },
  {
   "cell_type": "markdown",
   "id": "682d0b32",
   "metadata": {},
   "source": [
    "General Observations\n",
    "\n",
    "Estimated_Insects_count, Pesticide_use_category and Number_weeks_used have very weak positive correlation with Crop damage.\n",
    "\n",
    "Estimated_Insects_count and Pesticide_use_category have very weak positive correlation with Number_weeks_used.\n",
    "\n",
    "Pesticide_use_category and Number_weeks_used have moderate negative correlation with Number_weeks_Quit. "
   ]
  },
  {
   "cell_type": "markdown",
   "id": "0b3eb8dc",
   "metadata": {},
   "source": [
    "## Feature Transformation - Categorical to Numerical "
   ]
  },
  {
   "cell_type": "code",
   "execution_count": 84,
   "id": "f5828d7a",
   "metadata": {},
   "outputs": [],
   "source": [
    "#Binary classification of the numerical attributes \n",
    "df_train['Estimated_Insects_Count'] = np.log(df_train['Estimated_Insects_Count'])\n",
    "df_test['Estimated_Insects_Count'] = np.log(df_test['Estimated_Insects_Count'])\n",
    "df_train['Number_Doses_Week'] = np.where(df_train['Number_Doses_Week']>20,1,0)\n",
    "df_test['Number_Doses_Week'] = np.where(df_test['Number_Doses_Week']>20,1,0)\n",
    "df_train['Number_Weeks_Used'] = np.where(df_train['Number_Weeks_Used']>36,1,0)\n",
    "df_test['Number_Weeks_Used'] = np.where(df_test['Number_Weeks_Used']>36,1,0)\n",
    "df_train['Number_Weeks_Quit'] = np.where(df_train['Number_Weeks_Quit']>7,1,0)\n",
    "df_test['Number_Weeks_Quit'] = np.where(df_test['Number_Weeks_Quit']>7,1,0)"
   ]
  },
  {
   "cell_type": "code",
   "execution_count": 85,
   "id": "92ce144c",
   "metadata": {},
   "outputs": [],
   "source": [
    "#Generating dummy variables for the categorical attributes \n",
    "df_train = pd.get_dummies(df_train, columns=[\"Crop_Type\",\"Soil_Type\",\"Pesticide_Use_Category\",\"Season\"],\n",
    "                         prefix=[\"Crop\",\"Soil\",\"Pesticide\",\"Season\"], drop_first=False)\n",
    "df_test = pd.get_dummies(df_test, columns=[\"Crop_Type\",\"Soil_Type\",\"Pesticide_Use_Category\",\"Season\"],\n",
    "                         prefix=[\"Crop\",\"Soil\",\"Pesticide\",\"Season\"], drop_first=False)"
   ]
  },
  {
   "cell_type": "code",
   "execution_count": 86,
   "id": "89af40f6",
   "metadata": {},
   "outputs": [
    {
     "name": "stdout",
     "output_type": "stream",
     "text": [
      "<class 'pandas.core.frame.DataFrame'>\n",
      "Int64Index: 88858 entries, 0 to 88857\n",
      "Data columns (total 15 columns):\n",
      " #   Column                   Non-Null Count  Dtype  \n",
      "---  ------                   --------------  -----  \n",
      " 0   Crop_Damage              88858 non-null  float64\n",
      " 1   Estimated_Insects_Count  88858 non-null  float64\n",
      " 2   Number_Doses_Week        88858 non-null  int32  \n",
      " 3   Number_Weeks_Used        88858 non-null  int32  \n",
      " 4   Number_Weeks_Quit        88858 non-null  int32  \n",
      " 5   Crop_0                   88858 non-null  uint8  \n",
      " 6   Crop_1                   88858 non-null  uint8  \n",
      " 7   Soil_0                   88858 non-null  uint8  \n",
      " 8   Soil_1                   88858 non-null  uint8  \n",
      " 9   Pesticide_1              88858 non-null  uint8  \n",
      " 10  Pesticide_2              88858 non-null  uint8  \n",
      " 11  Pesticide_3              88858 non-null  uint8  \n",
      " 12  Season_1                 88858 non-null  uint8  \n",
      " 13  Season_2                 88858 non-null  uint8  \n",
      " 14  Season_3                 88858 non-null  uint8  \n",
      "dtypes: float64(2), int32(3), uint8(10)\n",
      "memory usage: 3.9 MB\n"
     ]
    }
   ],
   "source": [
    "df_train.info()"
   ]
  },
  {
   "cell_type": "code",
   "execution_count": 87,
   "id": "fb9f82a4",
   "metadata": {},
   "outputs": [],
   "source": [
    "#Changing the data type of categorical variables \n",
    "columns =['Crop_0','Crop_1','Soil_0','Soil_1','Pesticide_1','Pesticide_2','Pesticide_3','Season_1','Season_2','Season_3']\n",
    "for col in columns:\n",
    "    df_train[col] = df_train[col].astype('category')\n",
    "    df_test[col] = df_test[col].astype('category')\n",
    "    df_train[col] = df_train[col].cat.codes.astype(\"int16\")\n",
    "    df_test[col] = df_test[col].cat.codes.astype(\"int16\")"
   ]
  },
  {
   "cell_type": "code",
   "execution_count": 88,
   "id": "2eac1a00",
   "metadata": {},
   "outputs": [
    {
     "name": "stdout",
     "output_type": "stream",
     "text": [
      "<class 'pandas.core.frame.DataFrame'>\n",
      "Int64Index: 88858 entries, 0 to 88857\n",
      "Data columns (total 15 columns):\n",
      " #   Column                   Non-Null Count  Dtype  \n",
      "---  ------                   --------------  -----  \n",
      " 0   Crop_Damage              88858 non-null  float64\n",
      " 1   Estimated_Insects_Count  88858 non-null  float64\n",
      " 2   Number_Doses_Week        88858 non-null  int32  \n",
      " 3   Number_Weeks_Used        88858 non-null  int32  \n",
      " 4   Number_Weeks_Quit        88858 non-null  int32  \n",
      " 5   Crop_0                   88858 non-null  int16  \n",
      " 6   Crop_1                   88858 non-null  int16  \n",
      " 7   Soil_0                   88858 non-null  int16  \n",
      " 8   Soil_1                   88858 non-null  int16  \n",
      " 9   Pesticide_1              88858 non-null  int16  \n",
      " 10  Pesticide_2              88858 non-null  int16  \n",
      " 11  Pesticide_3              88858 non-null  int16  \n",
      " 12  Season_1                 88858 non-null  int16  \n",
      " 13  Season_2                 88858 non-null  int16  \n",
      " 14  Season_3                 88858 non-null  int16  \n",
      "dtypes: float64(2), int16(10), int32(3)\n",
      "memory usage: 4.7 MB\n"
     ]
    }
   ],
   "source": [
    "df_train.info()"
   ]
  },
  {
   "cell_type": "code",
   "execution_count": 89,
   "id": "fdaca904",
   "metadata": {},
   "outputs": [
    {
     "name": "stdout",
     "output_type": "stream",
     "text": [
      "<class 'pandas.core.frame.DataFrame'>\n",
      "Int64Index: 59310 entries, 0 to 59309\n",
      "Data columns (total 15 columns):\n",
      " #   Column                   Non-Null Count  Dtype  \n",
      "---  ------                   --------------  -----  \n",
      " 0   Crop_Damage              0 non-null      float64\n",
      " 1   Estimated_Insects_Count  59310 non-null  float64\n",
      " 2   Number_Doses_Week        59310 non-null  int32  \n",
      " 3   Number_Weeks_Used        59310 non-null  int32  \n",
      " 4   Number_Weeks_Quit        59310 non-null  int32  \n",
      " 5   Crop_0                   59310 non-null  int16  \n",
      " 6   Crop_1                   59310 non-null  int16  \n",
      " 7   Soil_0                   59310 non-null  int16  \n",
      " 8   Soil_1                   59310 non-null  int16  \n",
      " 9   Pesticide_1              59310 non-null  int16  \n",
      " 10  Pesticide_2              59310 non-null  int16  \n",
      " 11  Pesticide_3              59310 non-null  int16  \n",
      " 12  Season_1                 59310 non-null  int16  \n",
      " 13  Season_2                 59310 non-null  int16  \n",
      " 14  Season_3                 59310 non-null  int16  \n",
      "dtypes: float64(2), int16(10), int32(3)\n",
      "memory usage: 3.2 MB\n"
     ]
    }
   ],
   "source": [
    "df_test.info()"
   ]
  },
  {
   "cell_type": "markdown",
   "id": "823e1467",
   "metadata": {},
   "source": [
    "### Separating the dependent and independent variables for model fitting"
   ]
  },
  {
   "cell_type": "code",
   "execution_count": 90,
   "id": "140a58dd",
   "metadata": {},
   "outputs": [],
   "source": [
    "X = df_train.drop('Crop_Damage', axis=1)\n",
    "y = df_train['Crop_Damage']"
   ]
  },
  {
   "cell_type": "code",
   "execution_count": 91,
   "id": "930b7430",
   "metadata": {},
   "outputs": [
    {
     "data": {
      "text/html": [
       "<div>\n",
       "<style scoped>\n",
       "    .dataframe tbody tr th:only-of-type {\n",
       "        vertical-align: middle;\n",
       "    }\n",
       "\n",
       "    .dataframe tbody tr th {\n",
       "        vertical-align: top;\n",
       "    }\n",
       "\n",
       "    .dataframe thead th {\n",
       "        text-align: right;\n",
       "    }\n",
       "</style>\n",
       "<table border=\"1\" class=\"dataframe\">\n",
       "  <thead>\n",
       "    <tr style=\"text-align: right;\">\n",
       "      <th></th>\n",
       "      <th>Estimated_Insects_Count</th>\n",
       "      <th>Number_Doses_Week</th>\n",
       "      <th>Number_Weeks_Used</th>\n",
       "      <th>Number_Weeks_Quit</th>\n",
       "      <th>Crop_0</th>\n",
       "      <th>Crop_1</th>\n",
       "      <th>Soil_0</th>\n",
       "      <th>Soil_1</th>\n",
       "      <th>Pesticide_1</th>\n",
       "      <th>Pesticide_2</th>\n",
       "      <th>Pesticide_3</th>\n",
       "      <th>Season_1</th>\n",
       "      <th>Season_2</th>\n",
       "      <th>Season_3</th>\n",
       "    </tr>\n",
       "  </thead>\n",
       "  <tbody>\n",
       "    <tr>\n",
       "      <th>0</th>\n",
       "      <td>5.236442</td>\n",
       "      <td>0</td>\n",
       "      <td>0</td>\n",
       "      <td>0</td>\n",
       "      <td>0</td>\n",
       "      <td>1</td>\n",
       "      <td>1</td>\n",
       "      <td>0</td>\n",
       "      <td>1</td>\n",
       "      <td>0</td>\n",
       "      <td>0</td>\n",
       "      <td>1</td>\n",
       "      <td>0</td>\n",
       "      <td>0</td>\n",
       "    </tr>\n",
       "    <tr>\n",
       "      <th>1</th>\n",
       "      <td>5.342334</td>\n",
       "      <td>0</td>\n",
       "      <td>0</td>\n",
       "      <td>0</td>\n",
       "      <td>0</td>\n",
       "      <td>1</td>\n",
       "      <td>1</td>\n",
       "      <td>0</td>\n",
       "      <td>1</td>\n",
       "      <td>0</td>\n",
       "      <td>0</td>\n",
       "      <td>0</td>\n",
       "      <td>1</td>\n",
       "      <td>0</td>\n",
       "    </tr>\n",
       "    <tr>\n",
       "      <th>2</th>\n",
       "      <td>5.549076</td>\n",
       "      <td>0</td>\n",
       "      <td>0</td>\n",
       "      <td>0</td>\n",
       "      <td>0</td>\n",
       "      <td>1</td>\n",
       "      <td>1</td>\n",
       "      <td>0</td>\n",
       "      <td>1</td>\n",
       "      <td>0</td>\n",
       "      <td>0</td>\n",
       "      <td>0</td>\n",
       "      <td>1</td>\n",
       "      <td>0</td>\n",
       "    </tr>\n",
       "    <tr>\n",
       "      <th>3</th>\n",
       "      <td>5.549076</td>\n",
       "      <td>0</td>\n",
       "      <td>0</td>\n",
       "      <td>0</td>\n",
       "      <td>0</td>\n",
       "      <td>1</td>\n",
       "      <td>0</td>\n",
       "      <td>1</td>\n",
       "      <td>1</td>\n",
       "      <td>0</td>\n",
       "      <td>0</td>\n",
       "      <td>0</td>\n",
       "      <td>1</td>\n",
       "      <td>0</td>\n",
       "    </tr>\n",
       "    <tr>\n",
       "      <th>4</th>\n",
       "      <td>5.834811</td>\n",
       "      <td>0</td>\n",
       "      <td>0</td>\n",
       "      <td>0</td>\n",
       "      <td>0</td>\n",
       "      <td>1</td>\n",
       "      <td>1</td>\n",
       "      <td>0</td>\n",
       "      <td>1</td>\n",
       "      <td>0</td>\n",
       "      <td>0</td>\n",
       "      <td>0</td>\n",
       "      <td>1</td>\n",
       "      <td>0</td>\n",
       "    </tr>\n",
       "    <tr>\n",
       "      <th>...</th>\n",
       "      <td>...</td>\n",
       "      <td>...</td>\n",
       "      <td>...</td>\n",
       "      <td>...</td>\n",
       "      <td>...</td>\n",
       "      <td>...</td>\n",
       "      <td>...</td>\n",
       "      <td>...</td>\n",
       "      <td>...</td>\n",
       "      <td>...</td>\n",
       "      <td>...</td>\n",
       "      <td>...</td>\n",
       "      <td>...</td>\n",
       "      <td>...</td>\n",
       "    </tr>\n",
       "    <tr>\n",
       "      <th>88853</th>\n",
       "      <td>8.112827</td>\n",
       "      <td>0</td>\n",
       "      <td>0</td>\n",
       "      <td>0</td>\n",
       "      <td>0</td>\n",
       "      <td>1</td>\n",
       "      <td>1</td>\n",
       "      <td>0</td>\n",
       "      <td>0</td>\n",
       "      <td>1</td>\n",
       "      <td>0</td>\n",
       "      <td>0</td>\n",
       "      <td>0</td>\n",
       "      <td>1</td>\n",
       "    </tr>\n",
       "    <tr>\n",
       "      <th>88854</th>\n",
       "      <td>7.100027</td>\n",
       "      <td>0</td>\n",
       "      <td>0</td>\n",
       "      <td>1</td>\n",
       "      <td>0</td>\n",
       "      <td>1</td>\n",
       "      <td>1</td>\n",
       "      <td>0</td>\n",
       "      <td>0</td>\n",
       "      <td>1</td>\n",
       "      <td>0</td>\n",
       "      <td>1</td>\n",
       "      <td>0</td>\n",
       "      <td>0</td>\n",
       "    </tr>\n",
       "    <tr>\n",
       "      <th>88855</th>\n",
       "      <td>7.100027</td>\n",
       "      <td>0</td>\n",
       "      <td>1</td>\n",
       "      <td>1</td>\n",
       "      <td>0</td>\n",
       "      <td>1</td>\n",
       "      <td>1</td>\n",
       "      <td>0</td>\n",
       "      <td>0</td>\n",
       "      <td>1</td>\n",
       "      <td>0</td>\n",
       "      <td>0</td>\n",
       "      <td>1</td>\n",
       "      <td>0</td>\n",
       "    </tr>\n",
       "    <tr>\n",
       "      <th>88856</th>\n",
       "      <td>7.100027</td>\n",
       "      <td>0</td>\n",
       "      <td>0</td>\n",
       "      <td>1</td>\n",
       "      <td>0</td>\n",
       "      <td>1</td>\n",
       "      <td>1</td>\n",
       "      <td>0</td>\n",
       "      <td>0</td>\n",
       "      <td>1</td>\n",
       "      <td>0</td>\n",
       "      <td>0</td>\n",
       "      <td>0</td>\n",
       "      <td>1</td>\n",
       "    </tr>\n",
       "    <tr>\n",
       "      <th>88857</th>\n",
       "      <td>7.100027</td>\n",
       "      <td>0</td>\n",
       "      <td>1</td>\n",
       "      <td>0</td>\n",
       "      <td>0</td>\n",
       "      <td>1</td>\n",
       "      <td>1</td>\n",
       "      <td>0</td>\n",
       "      <td>0</td>\n",
       "      <td>1</td>\n",
       "      <td>0</td>\n",
       "      <td>0</td>\n",
       "      <td>0</td>\n",
       "      <td>1</td>\n",
       "    </tr>\n",
       "  </tbody>\n",
       "</table>\n",
       "<p>88858 rows × 14 columns</p>\n",
       "</div>"
      ],
      "text/plain": [
       "       Estimated_Insects_Count  Number_Doses_Week  Number_Weeks_Used  \\\n",
       "0                     5.236442                  0                  0   \n",
       "1                     5.342334                  0                  0   \n",
       "2                     5.549076                  0                  0   \n",
       "3                     5.549076                  0                  0   \n",
       "4                     5.834811                  0                  0   \n",
       "...                        ...                ...                ...   \n",
       "88853                 8.112827                  0                  0   \n",
       "88854                 7.100027                  0                  0   \n",
       "88855                 7.100027                  0                  1   \n",
       "88856                 7.100027                  0                  0   \n",
       "88857                 7.100027                  0                  1   \n",
       "\n",
       "       Number_Weeks_Quit  Crop_0  Crop_1  Soil_0  Soil_1  Pesticide_1  \\\n",
       "0                      0       0       1       1       0            1   \n",
       "1                      0       0       1       1       0            1   \n",
       "2                      0       0       1       1       0            1   \n",
       "3                      0       0       1       0       1            1   \n",
       "4                      0       0       1       1       0            1   \n",
       "...                  ...     ...     ...     ...     ...          ...   \n",
       "88853                  0       0       1       1       0            0   \n",
       "88854                  1       0       1       1       0            0   \n",
       "88855                  1       0       1       1       0            0   \n",
       "88856                  1       0       1       1       0            0   \n",
       "88857                  0       0       1       1       0            0   \n",
       "\n",
       "       Pesticide_2  Pesticide_3  Season_1  Season_2  Season_3  \n",
       "0                0            0         1         0         0  \n",
       "1                0            0         0         1         0  \n",
       "2                0            0         0         1         0  \n",
       "3                0            0         0         1         0  \n",
       "4                0            0         0         1         0  \n",
       "...            ...          ...       ...       ...       ...  \n",
       "88853            1            0         0         0         1  \n",
       "88854            1            0         1         0         0  \n",
       "88855            1            0         0         1         0  \n",
       "88856            1            0         0         0         1  \n",
       "88857            1            0         0         0         1  \n",
       "\n",
       "[88858 rows x 14 columns]"
      ]
     },
     "execution_count": 91,
     "metadata": {},
     "output_type": "execute_result"
    }
   ],
   "source": [
    "X"
   ]
  },
  {
   "cell_type": "code",
   "execution_count": 92,
   "id": "14da11f1",
   "metadata": {},
   "outputs": [
    {
     "data": {
      "text/html": [
       "<div>\n",
       "<style scoped>\n",
       "    .dataframe tbody tr th:only-of-type {\n",
       "        vertical-align: middle;\n",
       "    }\n",
       "\n",
       "    .dataframe tbody tr th {\n",
       "        vertical-align: top;\n",
       "    }\n",
       "\n",
       "    .dataframe thead th {\n",
       "        text-align: right;\n",
       "    }\n",
       "</style>\n",
       "<table border=\"1\" class=\"dataframe\">\n",
       "  <thead>\n",
       "    <tr style=\"text-align: right;\">\n",
       "      <th></th>\n",
       "      <th>Estimated_Insects_Count</th>\n",
       "      <th>Number_Doses_Week</th>\n",
       "      <th>Number_Weeks_Used</th>\n",
       "      <th>Number_Weeks_Quit</th>\n",
       "      <th>Crop_0</th>\n",
       "      <th>Crop_1</th>\n",
       "      <th>Soil_0</th>\n",
       "      <th>Soil_1</th>\n",
       "      <th>Pesticide_1</th>\n",
       "      <th>Pesticide_2</th>\n",
       "      <th>Pesticide_3</th>\n",
       "      <th>Season_1</th>\n",
       "      <th>Season_2</th>\n",
       "      <th>Season_3</th>\n",
       "    </tr>\n",
       "  </thead>\n",
       "  <tbody>\n",
       "    <tr>\n",
       "      <th>0</th>\n",
       "      <td>-2.724326</td>\n",
       "      <td>-0.894561</td>\n",
       "      <td>-0.541579</td>\n",
       "      <td>-0.967007</td>\n",
       "      <td>-1.586343</td>\n",
       "      <td>1.586343</td>\n",
       "      <td>0.920021</td>\n",
       "      <td>-0.920021</td>\n",
       "      <td>10.254876</td>\n",
       "      <td>-1.591622</td>\n",
       "      <td>-0.613728</td>\n",
       "      <td>1.517572</td>\n",
       "      <td>-0.995083</td>\n",
       "      <td>-0.499550</td>\n",
       "    </tr>\n",
       "    <tr>\n",
       "      <th>1</th>\n",
       "      <td>-2.561721</td>\n",
       "      <td>-0.894561</td>\n",
       "      <td>-0.541579</td>\n",
       "      <td>-0.967007</td>\n",
       "      <td>-1.586343</td>\n",
       "      <td>1.586343</td>\n",
       "      <td>0.920021</td>\n",
       "      <td>-0.920021</td>\n",
       "      <td>10.254876</td>\n",
       "      <td>-1.591622</td>\n",
       "      <td>-0.613728</td>\n",
       "      <td>-0.658947</td>\n",
       "      <td>1.004941</td>\n",
       "      <td>-0.499550</td>\n",
       "    </tr>\n",
       "    <tr>\n",
       "      <th>2</th>\n",
       "      <td>-2.244256</td>\n",
       "      <td>-0.894561</td>\n",
       "      <td>-0.541579</td>\n",
       "      <td>-0.967007</td>\n",
       "      <td>-1.586343</td>\n",
       "      <td>1.586343</td>\n",
       "      <td>0.920021</td>\n",
       "      <td>-0.920021</td>\n",
       "      <td>10.254876</td>\n",
       "      <td>-1.591622</td>\n",
       "      <td>-0.613728</td>\n",
       "      <td>-0.658947</td>\n",
       "      <td>1.004941</td>\n",
       "      <td>-0.499550</td>\n",
       "    </tr>\n",
       "    <tr>\n",
       "      <th>3</th>\n",
       "      <td>-2.244256</td>\n",
       "      <td>-0.894561</td>\n",
       "      <td>-0.541579</td>\n",
       "      <td>-0.967007</td>\n",
       "      <td>-1.586343</td>\n",
       "      <td>1.586343</td>\n",
       "      <td>-1.086932</td>\n",
       "      <td>1.086932</td>\n",
       "      <td>10.254876</td>\n",
       "      <td>-1.591622</td>\n",
       "      <td>-0.613728</td>\n",
       "      <td>-0.658947</td>\n",
       "      <td>1.004941</td>\n",
       "      <td>-0.499550</td>\n",
       "    </tr>\n",
       "    <tr>\n",
       "      <th>4</th>\n",
       "      <td>-1.805492</td>\n",
       "      <td>-0.894561</td>\n",
       "      <td>-0.541579</td>\n",
       "      <td>-0.967007</td>\n",
       "      <td>-1.586343</td>\n",
       "      <td>1.586343</td>\n",
       "      <td>0.920021</td>\n",
       "      <td>-0.920021</td>\n",
       "      <td>10.254876</td>\n",
       "      <td>-1.591622</td>\n",
       "      <td>-0.613728</td>\n",
       "      <td>-0.658947</td>\n",
       "      <td>1.004941</td>\n",
       "      <td>-0.499550</td>\n",
       "    </tr>\n",
       "    <tr>\n",
       "      <th>...</th>\n",
       "      <td>...</td>\n",
       "      <td>...</td>\n",
       "      <td>...</td>\n",
       "      <td>...</td>\n",
       "      <td>...</td>\n",
       "      <td>...</td>\n",
       "      <td>...</td>\n",
       "      <td>...</td>\n",
       "      <td>...</td>\n",
       "      <td>...</td>\n",
       "      <td>...</td>\n",
       "      <td>...</td>\n",
       "      <td>...</td>\n",
       "      <td>...</td>\n",
       "    </tr>\n",
       "    <tr>\n",
       "      <th>88853</th>\n",
       "      <td>1.692550</td>\n",
       "      <td>-0.894561</td>\n",
       "      <td>-0.541579</td>\n",
       "      <td>-0.967007</td>\n",
       "      <td>-1.586343</td>\n",
       "      <td>1.586343</td>\n",
       "      <td>0.920021</td>\n",
       "      <td>-0.920021</td>\n",
       "      <td>-0.097515</td>\n",
       "      <td>0.628290</td>\n",
       "      <td>-0.613728</td>\n",
       "      <td>-0.658947</td>\n",
       "      <td>-0.995083</td>\n",
       "      <td>2.001802</td>\n",
       "    </tr>\n",
       "    <tr>\n",
       "      <th>88854</th>\n",
       "      <td>0.137330</td>\n",
       "      <td>-0.894561</td>\n",
       "      <td>-0.541579</td>\n",
       "      <td>1.034118</td>\n",
       "      <td>-1.586343</td>\n",
       "      <td>1.586343</td>\n",
       "      <td>0.920021</td>\n",
       "      <td>-0.920021</td>\n",
       "      <td>-0.097515</td>\n",
       "      <td>0.628290</td>\n",
       "      <td>-0.613728</td>\n",
       "      <td>1.517572</td>\n",
       "      <td>-0.995083</td>\n",
       "      <td>-0.499550</td>\n",
       "    </tr>\n",
       "    <tr>\n",
       "      <th>88855</th>\n",
       "      <td>0.137330</td>\n",
       "      <td>-0.894561</td>\n",
       "      <td>1.846453</td>\n",
       "      <td>1.034118</td>\n",
       "      <td>-1.586343</td>\n",
       "      <td>1.586343</td>\n",
       "      <td>0.920021</td>\n",
       "      <td>-0.920021</td>\n",
       "      <td>-0.097515</td>\n",
       "      <td>0.628290</td>\n",
       "      <td>-0.613728</td>\n",
       "      <td>-0.658947</td>\n",
       "      <td>1.004941</td>\n",
       "      <td>-0.499550</td>\n",
       "    </tr>\n",
       "    <tr>\n",
       "      <th>88856</th>\n",
       "      <td>0.137330</td>\n",
       "      <td>-0.894561</td>\n",
       "      <td>-0.541579</td>\n",
       "      <td>1.034118</td>\n",
       "      <td>-1.586343</td>\n",
       "      <td>1.586343</td>\n",
       "      <td>0.920021</td>\n",
       "      <td>-0.920021</td>\n",
       "      <td>-0.097515</td>\n",
       "      <td>0.628290</td>\n",
       "      <td>-0.613728</td>\n",
       "      <td>-0.658947</td>\n",
       "      <td>-0.995083</td>\n",
       "      <td>2.001802</td>\n",
       "    </tr>\n",
       "    <tr>\n",
       "      <th>88857</th>\n",
       "      <td>0.137330</td>\n",
       "      <td>-0.894561</td>\n",
       "      <td>1.846453</td>\n",
       "      <td>-0.967007</td>\n",
       "      <td>-1.586343</td>\n",
       "      <td>1.586343</td>\n",
       "      <td>0.920021</td>\n",
       "      <td>-0.920021</td>\n",
       "      <td>-0.097515</td>\n",
       "      <td>0.628290</td>\n",
       "      <td>-0.613728</td>\n",
       "      <td>-0.658947</td>\n",
       "      <td>-0.995083</td>\n",
       "      <td>2.001802</td>\n",
       "    </tr>\n",
       "  </tbody>\n",
       "</table>\n",
       "<p>88858 rows × 14 columns</p>\n",
       "</div>"
      ],
      "text/plain": [
       "       Estimated_Insects_Count  Number_Doses_Week  Number_Weeks_Used  \\\n",
       "0                    -2.724326          -0.894561          -0.541579   \n",
       "1                    -2.561721          -0.894561          -0.541579   \n",
       "2                    -2.244256          -0.894561          -0.541579   \n",
       "3                    -2.244256          -0.894561          -0.541579   \n",
       "4                    -1.805492          -0.894561          -0.541579   \n",
       "...                        ...                ...                ...   \n",
       "88853                 1.692550          -0.894561          -0.541579   \n",
       "88854                 0.137330          -0.894561          -0.541579   \n",
       "88855                 0.137330          -0.894561           1.846453   \n",
       "88856                 0.137330          -0.894561          -0.541579   \n",
       "88857                 0.137330          -0.894561           1.846453   \n",
       "\n",
       "       Number_Weeks_Quit    Crop_0    Crop_1    Soil_0    Soil_1  Pesticide_1  \\\n",
       "0              -0.967007 -1.586343  1.586343  0.920021 -0.920021    10.254876   \n",
       "1              -0.967007 -1.586343  1.586343  0.920021 -0.920021    10.254876   \n",
       "2              -0.967007 -1.586343  1.586343  0.920021 -0.920021    10.254876   \n",
       "3              -0.967007 -1.586343  1.586343 -1.086932  1.086932    10.254876   \n",
       "4              -0.967007 -1.586343  1.586343  0.920021 -0.920021    10.254876   \n",
       "...                  ...       ...       ...       ...       ...          ...   \n",
       "88853          -0.967007 -1.586343  1.586343  0.920021 -0.920021    -0.097515   \n",
       "88854           1.034118 -1.586343  1.586343  0.920021 -0.920021    -0.097515   \n",
       "88855           1.034118 -1.586343  1.586343  0.920021 -0.920021    -0.097515   \n",
       "88856           1.034118 -1.586343  1.586343  0.920021 -0.920021    -0.097515   \n",
       "88857          -0.967007 -1.586343  1.586343  0.920021 -0.920021    -0.097515   \n",
       "\n",
       "       Pesticide_2  Pesticide_3  Season_1  Season_2  Season_3  \n",
       "0        -1.591622    -0.613728  1.517572 -0.995083 -0.499550  \n",
       "1        -1.591622    -0.613728 -0.658947  1.004941 -0.499550  \n",
       "2        -1.591622    -0.613728 -0.658947  1.004941 -0.499550  \n",
       "3        -1.591622    -0.613728 -0.658947  1.004941 -0.499550  \n",
       "4        -1.591622    -0.613728 -0.658947  1.004941 -0.499550  \n",
       "...            ...          ...       ...       ...       ...  \n",
       "88853     0.628290    -0.613728 -0.658947 -0.995083  2.001802  \n",
       "88854     0.628290    -0.613728  1.517572 -0.995083 -0.499550  \n",
       "88855     0.628290    -0.613728 -0.658947  1.004941 -0.499550  \n",
       "88856     0.628290    -0.613728 -0.658947 -0.995083  2.001802  \n",
       "88857     0.628290    -0.613728 -0.658947 -0.995083  2.001802  \n",
       "\n",
       "[88858 rows x 14 columns]"
      ]
     },
     "execution_count": 92,
     "metadata": {},
     "output_type": "execute_result"
    }
   ],
   "source": [
    "#Standardizing every column using Standar Scaler to improve performance\n",
    "from sklearn.preprocessing import StandardScaler \n",
    "standard = StandardScaler()\n",
    "stan_x = standard.fit_transform(X)\n",
    "df_stan_x = pd.DataFrame(stan_x, columns=X.columns)\n",
    "df_stan_x"
   ]
  },
  {
   "cell_type": "markdown",
   "id": "1d812c1b",
   "metadata": {},
   "source": [
    "#### Splitting the Data for Testing and Training "
   ]
  },
  {
   "cell_type": "code",
   "execution_count": 93,
   "id": "751032c5",
   "metadata": {},
   "outputs": [],
   "source": [
    "#Splitting the training data into training and test\n",
    "from sklearn.model_selection import train_test_split\n",
    "X_train, X_test, y_train, y_test = train_test_split(df_stan_x,y, test_size = 0.2, random_state=42)"
   ]
  },
  {
   "cell_type": "markdown",
   "id": "ddc99893",
   "metadata": {},
   "source": [
    "## Fitting the models"
   ]
  },
  {
   "cell_type": "markdown",
   "id": "2a975800",
   "metadata": {},
   "source": [
    "#### Decision Tree"
   ]
  },
  {
   "cell_type": "code",
   "execution_count": 94,
   "id": "cc94576f",
   "metadata": {},
   "outputs": [
    {
     "name": "stdout",
     "output_type": "stream",
     "text": [
      "The accuracy score of Decision Tree Classifier on training data is 0.8514475424134147.\n"
     ]
    }
   ],
   "source": [
    "from sklearn.tree import DecisionTreeClassifier\n",
    "decision_tree_model = DecisionTreeClassifier()\n",
    "decision_tree_model.fit(X_train, y_train)\n",
    "decision_score_train = decision_tree_model.score(X_train, y_train)\n",
    "print(f\"The accuracy score of Decision Tree Classifier on training data is {decision_score_train}.\")"
   ]
  },
  {
   "cell_type": "code",
   "execution_count": 95,
   "id": "d4292f2f",
   "metadata": {},
   "outputs": [
    {
     "name": "stdout",
     "output_type": "stream",
     "text": [
      "The accuracy score of Logistic Regression on test data is 0.8290569435066396.\n"
     ]
    }
   ],
   "source": [
    "decision_score_test = decision_tree_model.score(X_test, y_test)\n",
    "print(f\"The accuracy score of Logistic Regression on test data is {decision_score_test}.\")"
   ]
  },
  {
   "cell_type": "markdown",
   "id": "e8b154da",
   "metadata": {},
   "source": [
    "#### Random Forest"
   ]
  },
  {
   "cell_type": "code",
   "execution_count": 96,
   "id": "47ba5c9c",
   "metadata": {},
   "outputs": [
    {
     "data": {
      "text/plain": [
       "RandomForestClassifier()"
      ]
     },
     "execution_count": 96,
     "metadata": {},
     "output_type": "execute_result"
    }
   ],
   "source": [
    "from sklearn.ensemble import RandomForestClassifier\n",
    "random_forest_model = RandomForestClassifier()\n",
    "random_forest_model.fit(X_train, y_train)"
   ]
  },
  {
   "cell_type": "code",
   "execution_count": 97,
   "id": "54baa7a2",
   "metadata": {},
   "outputs": [
    {
     "name": "stdout",
     "output_type": "stream",
     "text": [
      "The accuracy score of Random Forest Classifier on training data is 0.8514475424134147.\n"
     ]
    }
   ],
   "source": [
    "rf_score_train = random_forest_model.score(X_train, y_train)\n",
    "print(f\"The accuracy score of Random Forest Classifier on training data is {rf_score_train}.\")"
   ]
  },
  {
   "cell_type": "code",
   "execution_count": 98,
   "id": "e7adbadb",
   "metadata": {},
   "outputs": [
    {
     "name": "stdout",
     "output_type": "stream",
     "text": [
      "The accuracy score of Random Forest on test data is 0.8272000900292595.\n"
     ]
    }
   ],
   "source": [
    "rf_score_test = random_forest_model.score(X_test, y_test)\n",
    "print(f\"The accuracy score of Random Forest on test data is {rf_score_test}.\")"
   ]
  },
  {
   "cell_type": "markdown",
   "id": "8c1a79a0",
   "metadata": {},
   "source": [
    "#### K-Nearest Neighbors"
   ]
  },
  {
   "cell_type": "code",
   "execution_count": 99,
   "id": "c29ca58e",
   "metadata": {},
   "outputs": [
    {
     "data": {
      "text/plain": [
       "KNeighborsClassifier()"
      ]
     },
     "execution_count": 99,
     "metadata": {},
     "output_type": "execute_result"
    }
   ],
   "source": [
    "from sklearn.neighbors import KNeighborsClassifier\n",
    "knn_model = KNeighborsClassifier()\n",
    "knn_model.fit(X_train,y_train)"
   ]
  },
  {
   "cell_type": "code",
   "execution_count": 100,
   "id": "173021c9",
   "metadata": {},
   "outputs": [
    {
     "name": "stdout",
     "output_type": "stream",
     "text": [
      "The accuracy score of KNN Classifier on training data is 0.837394142306502.\n"
     ]
    }
   ],
   "source": [
    "knn_score_train = knn_model.score(X_train, y_train)\n",
    "print(f\"The accuracy score of KNN Classifier on training data is {knn_score_train}.\")"
   ]
  },
  {
   "cell_type": "code",
   "execution_count": 101,
   "id": "d317874f",
   "metadata": {},
   "outputs": [
    {
     "name": "stdout",
     "output_type": "stream",
     "text": [
      "The accuracy score of KNN on test data is 0.8232050416385325.\n"
     ]
    }
   ],
   "source": [
    "knn_score_test = knn_model.score(X_test, y_test)\n",
    "print(f\"The accuracy score of KNN on test data is {knn_score_test}.\")"
   ]
  },
  {
   "cell_type": "markdown",
   "id": "8567db7a",
   "metadata": {},
   "source": [
    "#### Gaussian Naive Bayes "
   ]
  },
  {
   "cell_type": "code",
   "execution_count": 102,
   "id": "e180720f",
   "metadata": {},
   "outputs": [
    {
     "data": {
      "text/plain": [
       "GaussianNB()"
      ]
     },
     "execution_count": 102,
     "metadata": {},
     "output_type": "execute_result"
    }
   ],
   "source": [
    "from sklearn.naive_bayes import GaussianNB\n",
    "gnb_model = GaussianNB()\n",
    "gnb_model.fit(X_train,y_train)"
   ]
  },
  {
   "cell_type": "code",
   "execution_count": 103,
   "id": "5ed28b1e",
   "metadata": {},
   "outputs": [
    {
     "name": "stdout",
     "output_type": "stream",
     "text": [
      "The accuracy score of Gaussian Naive Bayes Classifier on training data is 0.8241988577216329.\n"
     ]
    }
   ],
   "source": [
    "gnb_score_train = gnb_model.score(X_train, y_train)\n",
    "print(f\"The accuracy score of Gaussian Naive Bayes Classifier on training data is {gnb_score_train}.\")"
   ]
  },
  {
   "cell_type": "code",
   "execution_count": 104,
   "id": "0c42ead4",
   "metadata": {},
   "outputs": [
    {
     "name": "stdout",
     "output_type": "stream",
     "text": [
      "The accuracy score of Gaussain Naive Bayes on test data is 0.8181408957911321.\n"
     ]
    }
   ],
   "source": [
    "gnb_score_test = gnb_model.score(X_test, y_test)\n",
    "print(f\"The accuracy score of Gaussain Naive Bayes on test data is {gnb_score_test}.\")"
   ]
  },
  {
   "cell_type": "markdown",
   "id": "4cbfa7e9",
   "metadata": {},
   "source": [
    "### Model Evaluation"
   ]
  },
  {
   "cell_type": "markdown",
   "id": "03e8906c",
   "metadata": {},
   "source": [
    "Constructing a confusion matrix for all the classifier models used "
   ]
  },
  {
   "cell_type": "code",
   "execution_count": 106,
   "id": "45ebcf7d",
   "metadata": {},
   "outputs": [],
   "source": [
    "from sklearn.metrics import classification_report "
   ]
  },
  {
   "cell_type": "markdown",
   "id": "55382bfe",
   "metadata": {},
   "source": [
    "#### Decision Tree"
   ]
  },
  {
   "cell_type": "code",
   "execution_count": 107,
   "id": "1f3c4b6f",
   "metadata": {},
   "outputs": [
    {
     "name": "stdout",
     "output_type": "stream",
     "text": [
      "              precision    recall  f1-score   support\n",
      "\n",
      "         0.0       0.85      0.98      0.91     14803\n",
      "         1.0       0.40      0.10      0.17      2499\n",
      "         2.0       0.15      0.01      0.02       470\n",
      "\n",
      "    accuracy                           0.83     17772\n",
      "   macro avg       0.47      0.36      0.37     17772\n",
      "weighted avg       0.77      0.83      0.78     17772\n",
      "\n"
     ]
    }
   ],
   "source": [
    "print(classification_report(y_test, decision_tree_model.predict(X_test)))"
   ]
  },
  {
   "cell_type": "code",
   "execution_count": 108,
   "id": "ccd717d2",
   "metadata": {},
   "outputs": [
    {
     "data": {
      "text/plain": [
       "Text(0.5, 1.0, 'Decision Tree')"
      ]
     },
     "execution_count": 108,
     "metadata": {},
     "output_type": "execute_result"
    },
    {
     "data": {
      "image/png": "[encoded data removed]",
      "text/plain": [
       "<Figure size 720x720 with 2 Axes>"
      ]
     },
     "metadata": {},
     "output_type": "display_data"
    }
   ],
   "source": [
    "y_pred = decision_tree_model.predict(X_test)\n",
    "from sklearn.metrics import confusion_matrix\n",
    "dt_cm = confusion_matrix(y_test, y_pred)\n",
    "sns.heatmap(dt_cm, annot=True, fmt='.2f',xticklabels = [\"Alive\", \"Destroyed (other reason)\", \"Destroyed (pesticide)\"] , yticklabels = [\"Alive\", \"Destroyed (other reason)\", \"Destroyed (pesticide)\"])\n",
    "sns.set(rc={'figure.figsize':(4,4)})\n",
    "plt.ylabel('Actual')\n",
    "plt.xlabel('Predicted')\n",
    "plt.title('Decision Tree')"
   ]
  },
  {
   "cell_type": "markdown",
   "id": "3e12c844",
   "metadata": {},
   "source": [
    "#### Random Forest "
   ]
  },
  {
   "cell_type": "code",
   "execution_count": 109,
   "id": "8f9b3c98",
   "metadata": {},
   "outputs": [
    {
     "name": "stdout",
     "output_type": "stream",
     "text": [
      "              precision    recall  f1-score   support\n",
      "\n",
      "         0.0       0.85      0.97      0.91     14803\n",
      "         1.0       0.39      0.12      0.19      2499\n",
      "         2.0       0.12      0.02      0.03       470\n",
      "\n",
      "    accuracy                           0.83     17772\n",
      "   macro avg       0.45      0.37      0.38     17772\n",
      "weighted avg       0.77      0.83      0.78     17772\n",
      "\n"
     ]
    },
    {
     "data": {
      "text/plain": [
       "Text(0.5, 1.0, 'Random Forest Classifier')"
      ]
     },
     "execution_count": 109,
     "metadata": {},
     "output_type": "execute_result"
    },
    {
     "data": {
      "image/png": "[encoded data removed]",
      "text/plain": [
       "<Figure size 288x288 with 2 Axes>"
      ]
     },
     "metadata": {},
     "output_type": "display_data"
    }
   ],
   "source": [
    "print(classification_report(y_test, random_forest_model.predict(X_test)))\n",
    "y_pred = random_forest_model.predict(X_test)\n",
    "from sklearn.metrics import confusion_matrix\n",
    "random_f_cm = confusion_matrix(y_pred, y_test)\n",
    "sns.heatmap(random_f_cm, annot=True, fmt='.2f',xticklabels = [\"Alive\", \"Destroyed (other reason)\", \"Destroyed (pesticide)\"] , yticklabels = [\"Alive\", \"Destroyed (other reason)\", \"Destroyed (pesticide)\"])\n",
    "sns.set(rc={'figure.figsize':(4,4)})\n",
    "plt.ylabel('Actual')\n",
    "plt.xlabel('Predicted')\n",
    "plt.title('Random Forest Classifier')"
   ]
  },
  {
   "cell_type": "markdown",
   "id": "25c30768",
   "metadata": {},
   "source": [
    "#### K-Nearest Neighbours"
   ]
  },
  {
   "cell_type": "code",
   "execution_count": 110,
   "id": "9edb9649",
   "metadata": {},
   "outputs": [
    {
     "name": "stdout",
     "output_type": "stream",
     "text": [
      "              precision    recall  f1-score   support\n",
      "\n",
      "         0.0       0.85      0.96      0.90     14803\n",
      "         1.0       0.38      0.17      0.23      2499\n",
      "         2.0       0.15      0.01      0.02       470\n",
      "\n",
      "    accuracy                           0.82     17772\n",
      "   macro avg       0.46      0.38      0.39     17772\n",
      "weighted avg       0.77      0.82      0.79     17772\n",
      "\n"
     ]
    },
    {
     "data": {
      "text/plain": [
       "Text(0.5, 1.0, 'K-Nearest Neighbours Classifier')"
      ]
     },
     "execution_count": 110,
     "metadata": {},
     "output_type": "execute_result"
    },
    {
     "data": {
      "image/png": "[encoded data removed]",
      "text/plain": [
       "<Figure size 288x288 with 2 Axes>"
      ]
     },
     "metadata": {},
     "output_type": "display_data"
    }
   ],
   "source": [
    "print(classification_report(y_test, knn_model.predict(X_test)))\n",
    "y_pred = knn_model.predict(X_test)\n",
    "from sklearn.metrics import confusion_matrix\n",
    "knn_cm = confusion_matrix(y_pred, y_test)\n",
    "sns.heatmap(knn_cm, annot=True, fmt='.2f',xticklabels = [\"Alive\", \"Destroyed (other reason)\", \"Destroyed (pesticide)\"] , yticklabels = [\"Alive\", \"Destroyed (other reason)\", \"Destroyed (pesticide)\"])\n",
    "sns.set(rc={'figure.figsize':(4,4)})\n",
    "plt.ylabel('Actual')\n",
    "plt.xlabel('Predicted')\n",
    "plt.title('K-Nearest Neighbours Classifier')"
   ]
  },
  {
   "cell_type": "markdown",
   "id": "cf1090ba",
   "metadata": {},
   "source": [
    "#### Gaussian Naive Bayes "
   ]
  },
  {
   "cell_type": "code",
   "execution_count": 111,
   "id": "7d80257b",
   "metadata": {},
   "outputs": [
    {
     "name": "stdout",
     "output_type": "stream",
     "text": [
      "              precision    recall  f1-score   support\n",
      "\n",
      "         0.0       0.86      0.95      0.91     14803\n",
      "         1.0       0.37      0.15      0.21      2499\n",
      "         2.0       0.12      0.09      0.10       470\n",
      "\n",
      "    accuracy                           0.82     17772\n",
      "   macro avg       0.45      0.40      0.41     17772\n",
      "weighted avg       0.77      0.82      0.79     17772\n",
      "\n"
     ]
    },
    {
     "data": {
      "text/plain": [
       "Text(0.5, 1.0, 'Gaussian Naive Bayes Classifier')"
      ]
     },
     "execution_count": 111,
     "metadata": {},
     "output_type": "execute_result"
    },
    {
     "data": {
      "image/png": "[encoded data removed]",
      "text/plain": [
       "<Figure size 288x288 with 2 Axes>"
      ]
     },
     "metadata": {},
     "output_type": "display_data"
    }
   ],
   "source": [
    "print(classification_report(y_test, gnb_model.predict(X_test)))\n",
    "y_pred = gnb_model.predict(X_test)\n",
    "from sklearn.metrics import confusion_matrix\n",
    "gnb_cm = confusion_matrix(y_pred, y_test)\n",
    "sns.heatmap(gnb_cm, annot=True, fmt='.2f',xticklabels = [\"Alive\", \"Destroyed (other reason)\", \"Destroyed (pesticide)\"] , yticklabels = [\"Alive\", \"Destroyed (other reason)\", \"Destroyed (pesticide)\"])\n",
    "sns.set(rc={'figure.figsize':(4,4)})\n",
    "plt.ylabel('Actual')\n",
    "plt.xlabel('Predicted')\n",
    "plt.title('Gaussian Naive Bayes Classifier')"
   ]
  },
  {
   "cell_type": "markdown",
   "id": "188525ec",
   "metadata": {},
   "source": [
    "Because of the nature of the data, all the classifiers are mostly accurate in predicting the crop damage type 0 (alive) compared to crop damage 1 (damage due to other reasons) and crop damage 2 (damage due to pesticides).   "
   ]
  },
  {
   "cell_type": "markdown",
   "id": "71ca3981",
   "metadata": {},
   "source": [
    "So, an extreme gradient boosting classifier is applied to boost the accuracy of prediction of different crop damage type."
   ]
  },
  {
   "cell_type": "code",
   "execution_count": 112,
   "id": "bd53e7ae",
   "metadata": {},
   "outputs": [],
   "source": [
    "from xgboost import XGBClassifier"
   ]
  },
  {
   "cell_type": "code",
   "execution_count": 113,
   "id": "04dca9b1",
   "metadata": {},
   "outputs": [
    {
     "data": {
      "text/plain": [
       "XGBClassifier(base_score=0.5, booster='gbtree', colsample_bylevel=1,\n",
       "              colsample_bynode=1, colsample_bytree=1, enable_categorical=False,\n",
       "              gamma=0, gpu_id=-1, importance_type=None,\n",
       "              interaction_constraints='', learning_rate=0.300000012,\n",
       "              max_delta_step=0, max_depth=6, min_child_weight=1, missing=nan,\n",
       "              monotone_constraints='()', n_estimators=100, n_jobs=16,\n",
       "              num_parallel_tree=1, objective='multi:softprob', predictor='auto',\n",
       "              random_state=42, reg_alpha=0, reg_lambda=1, scale_pos_weight=None,\n",
       "              subsample=1, tree_method='exact', validate_parameters=1,\n",
       "              verbosity=0)"
      ]
     },
     "execution_count": 113,
     "metadata": {},
     "output_type": "execute_result"
    }
   ],
   "source": [
    "xgb_model = XGBClassifier(verbosity = 0, random_state=42)\n",
    "xgb_model.fit(X_train, y_train)"
   ]
  },
  {
   "cell_type": "code",
   "execution_count": 114,
   "id": "79a97604",
   "metadata": {},
   "outputs": [
    {
     "name": "stdout",
     "output_type": "stream",
     "text": [
      "The accuracy score of XGB Classifier on training data is 0.8447092254452353.\n"
     ]
    }
   ],
   "source": [
    "xgb_score_train = xgb_model.score(X_train, y_train)\n",
    "print(f\"The accuracy score of XGB Classifier on training data is {xgb_score_train}.\")"
   ]
  },
  {
   "cell_type": "code",
   "execution_count": 115,
   "id": "ab2b66b7",
   "metadata": {},
   "outputs": [
    {
     "name": "stdout",
     "output_type": "stream",
     "text": [
      "The accuracy score of XGB classifier on test data is 0.8358091379698402.\n"
     ]
    }
   ],
   "source": [
    "xgb_score_test = xgb_model.score(X_test, y_test)\n",
    "print(f\"The accuracy score of XGB classifier on test data is {xgb_score_test}.\")"
   ]
  },
  {
   "cell_type": "markdown",
   "id": "b1fe52eb",
   "metadata": {},
   "source": [
    "#### Confusion Matrix of Boosted Classifier"
   ]
  },
  {
   "cell_type": "code",
   "execution_count": 116,
   "id": "41ec3551",
   "metadata": {},
   "outputs": [
    {
     "name": "stdout",
     "output_type": "stream",
     "text": [
      "              precision    recall  f1-score   support\n",
      "\n",
      "         0.0       0.85      0.99      0.91     14803\n",
      "         1.0       0.48      0.08      0.14      2499\n",
      "         2.0       0.33      0.01      0.02       470\n",
      "\n",
      "    accuracy                           0.84     17772\n",
      "   macro avg       0.55      0.36      0.36     17772\n",
      "weighted avg       0.78      0.84      0.78     17772\n",
      "\n"
     ]
    },
    {
     "data": {
      "text/plain": [
       "Text(0.5, 1.0, 'Extreme Gradient Boosting Classifier')"
      ]
     },
     "execution_count": 116,
     "metadata": {},
     "output_type": "execute_result"
    },
    {
     "data": {
      "image/png": "[encoded data removed]",
      "text/plain": [
       "<Figure size 288x288 with 2 Axes>"
      ]
     },
     "metadata": {},
     "output_type": "display_data"
    }
   ],
   "source": [
    "print(classification_report(y_test, xgb_model.predict(X_test)))\n",
    "y_pred = xgb_model.predict(X_test)\n",
    "from sklearn.metrics import confusion_matrix\n",
    "xgb_cm = confusion_matrix(y_pred, y_test)\n",
    "sns.heatmap(xgb_cm, annot=True, fmt='.2f',xticklabels = [\"Alive\", \"Destroyed (other reason)\", \"Destroyed (pesticide)\"] , yticklabels = [\"Alive\", \"Destroyed (other reason)\", \"Destroyed (pesticide)\"])\n",
    "sns.set(rc={'figure.figsize':(4,4)})\n",
    "plt.ylabel('Actual')\n",
    "plt.xlabel('Predicted')\n",
    "plt.title('Extreme Gradient Boosting Classifier')"
   ]
  },
  {
   "cell_type": "markdown",
   "id": "771214ec",
   "metadata": {},
   "source": [
    "Extreme Gradient Boosting appears to have the highest accuracy out of all the classifiers used. Hence, it is the most appropriate model for this classification."
   ]
  },
  {
   "cell_type": "markdown",
   "id": "87a3397f",
   "metadata": {},
   "source": [
    "### Cross Validation"
   ]
  },
  {
   "cell_type": "markdown",
   "id": "334db58e",
   "metadata": {},
   "source": [
    "K-fold Cross validation is then performed to check if the Extreme Gradient Boosting classifier overfits the dataset. Here, k=10 is used to train the XGB model. "
   ]
  },
  {
   "cell_type": "code",
   "execution_count": 117,
   "id": "ed570617",
   "metadata": {},
   "outputs": [
    {
     "name": "stdout",
     "output_type": "stream",
     "text": [
      "Average accuracy of 10-fold cross-validation is 0.840038737187708.\n"
     ]
    }
   ],
   "source": [
    "from sklearn import model_selection \n",
    "from sklearn.model_selection import cross_val_score\n",
    "kfold = model_selection.KFold(n_splits=10, shuffle=True, random_state=42)\n",
    "cv_model = XGBClassifier(verbosity = 0, random_state=42)\n",
    "results = model_selection.cross_val_score(cv_model, X_train, y_train, cv=kfold, scoring='accuracy')\n",
    "cv_mean = results.mean()\n",
    "print(f\"Average accuracy of 10-fold cross-validation is {cv_mean}.\")"
   ]
  },
  {
   "cell_type": "markdown",
   "id": "9e37dfb5",
   "metadata": {},
   "source": [
    "The average accuracy with cross validation is still very close to the accuracy of Extreme Gradient Boosting classifier model."
   ]
  },
  {
   "cell_type": "markdown",
   "id": "cdde40fe",
   "metadata": {},
   "source": [
    "### Most Important Features "
   ]
  },
  {
   "cell_type": "code",
   "execution_count": 122,
   "id": "ac4f74da",
   "metadata": {},
   "outputs": [
    {
     "name": "stdout",
     "output_type": "stream",
     "text": [
      "Pesticide_2    -> 59.08%\n",
      "Pesticide_1    -> 17.01%\n",
      "Number_Weeks_Used    -> 5.61%\n",
      "Estimated_Insects_Count    -> 5.37%\n",
      "Crop_0    -> 3.43%\n",
      "Number_Doses_Week    -> 1.68%\n",
      "Soil_0    -> 1.65%\n",
      "Number_Weeks_Quit    -> 1.52%\n",
      "Season_1    -> 1.23%\n",
      "Season_2    -> 1.23%\n",
      "Season_3    -> 1.17%\n",
      "Pesticide_3    -> 1.01%\n",
      "Soil_1    -> 0.00%\n",
      "Crop_1    -> 0.00%\n"
     ]
    }
   ],
   "source": [
    "importance = xgb_model.feature_importances_\n",
    "feature_indexes_by_importance = importance.argsort()[::-1]\n",
    "for index in feature_indexes_by_importance:\n",
    "    print('{}    -> {:.2f}%'.format(X.columns[index], (importance[index] *100.0)))"
   ]
  },
  {
   "cell_type": "code",
   "execution_count": null,
   "id": "df67c276",
   "metadata": {},
   "outputs": [],
   "source": []
  }
 ],
 "metadata": {
  "kernelspec": {
   "display_name": "Python 3 (ipykernel)",
   "language": "python",
   "name": "python3"
  },
  "language_info": {
   "codemirror_mode": {
    "name": "ipython",
    "version": 3
   },
   "file_extension": ".py",
   "mimetype": "text/x-python",
   "name": "python",
   "nbconvert_exporter": "python",
   "pygments_lexer": "ipython3",
   "version": "3.9.12"
  }
 },
 "nbformat": 4,
 "nbformat_minor": 5
}
